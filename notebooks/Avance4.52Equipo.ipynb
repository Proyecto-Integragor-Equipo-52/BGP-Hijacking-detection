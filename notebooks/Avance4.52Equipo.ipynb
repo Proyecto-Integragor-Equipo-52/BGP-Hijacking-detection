{
 "cells": [
  {
   "cell_type": "markdown",
   "id": "505357f3",
   "metadata": {},
   "source": [
    "<div align=\"center\">\n",
    "\n",
    "# Instituto Tecnológico y de Estudios Superiores de Monterrey\n",
    "\n",
    "**Septiembre–Diciembre 2025**\n",
    "**Maestría en Inteligencia Artificial Aplicada**\n",
    "\n",
    "## Avance 4\n",
    "\n",
    "**Modelos alternativos**\n",
    "\n",
    "---\n",
    "\n",
    "### Equipo académico\n",
    "\n",
    "|                  | **Nombre**                            |\n",
    "| ---------------- | ------------------------------------- |\n",
    "| Profesor Titular | Dra. Grettel Barceló Alonso           |\n",
    "| Asesora          | Dra. Ludivina Facundo Flores          |\n",
    "| Tutor            | Mtra. Verónica Sandra Guzmán de Valle |\n",
    "| Sponsor          | Dr. Jesús Arturo Pérez Díaz           |\n",
    "\n",
    "---\n",
    "\n",
    "### Proyecto Integrador\n",
    "\n",
    "**TC5035.10**\n",
    "\n",
    "---\n",
    "\n",
    "### Integrantes\n",
    "\n",
    "| **Nombre**                        | **Matrícula** |\n",
    "| --------------------------------- | ------------- |\n",
    "| Christopher Adolfo Orduña De León | A01795372     |\n",
    "| Miguel Ángel Paredes Gutiérrez    | A01794138     |\n",
    "| Carlos Mariano Ramírez Amaya      | A01795036     |\n",
    "\n",
    "**Fecha:** 19 de Octubre del 2025\n",
    "\n",
    "</div>\n"
   ]
  },
  {
   "cell_type": "code",
   "execution_count": 1,
   "id": "566c01bc",
   "metadata": {},
   "outputs": [
    {
     "name": "stdout",
     "output_type": "stream",
     "text": [
      "Shape:  (316313, 19)\n",
      "Columnas: ['time', 'collector', 'peer_asn', 'peer_ip', 'type', 'prefix', 'next_hop', 'as_path', 'origin', 'as_path_length', 'secs_between_announcements', 'unique_as_in_path', 'as_path_length_diff_A', 'as_path_length_diff_A_abs', 'origin_at_time_nuniq', 'MOAS', 'as_path_embedding', 'prev_embedding', 'cosine_distance_prev_A']\n"
     ]
    },
    {
     "data": {
      "text/html": [
       "<div>\n",
       "<style scoped>\n",
       "    .dataframe tbody tr th:only-of-type {\n",
       "        vertical-align: middle;\n",
       "    }\n",
       "\n",
       "    .dataframe tbody tr th {\n",
       "        vertical-align: top;\n",
       "    }\n",
       "\n",
       "    .dataframe thead th {\n",
       "        text-align: right;\n",
       "    }\n",
       "</style>\n",
       "<table border=\"1\" class=\"dataframe\">\n",
       "  <thead>\n",
       "    <tr style=\"text-align: right;\">\n",
       "      <th></th>\n",
       "      <th>time</th>\n",
       "      <th>collector</th>\n",
       "      <th>peer_asn</th>\n",
       "      <th>peer_ip</th>\n",
       "      <th>type</th>\n",
       "      <th>prefix</th>\n",
       "      <th>next_hop</th>\n",
       "      <th>as_path</th>\n",
       "      <th>origin</th>\n",
       "      <th>as_path_length</th>\n",
       "      <th>secs_between_announcements</th>\n",
       "      <th>unique_as_in_path</th>\n",
       "      <th>as_path_length_diff_A</th>\n",
       "      <th>as_path_length_diff_A_abs</th>\n",
       "      <th>origin_at_time_nuniq</th>\n",
       "      <th>MOAS</th>\n",
       "      <th>as_path_embedding</th>\n",
       "      <th>prev_embedding</th>\n",
       "      <th>cosine_distance_prev_A</th>\n",
       "    </tr>\n",
       "  </thead>\n",
       "  <tbody>\n",
       "    <tr>\n",
       "      <th>23695</th>\n",
       "      <td>1.748405e+09</td>\n",
       "      <td>route-views2.saopaulo</td>\n",
       "      <td>271253</td>\n",
       "      <td>187.16.209.243</td>\n",
       "      <td>A</td>\n",
       "      <td>101.32.0.0/20</td>\n",
       "      <td>187.16.209.243</td>\n",
       "      <td>271253 3356 52468 53013</td>\n",
       "      <td>53013</td>\n",
       "      <td>4</td>\n",
       "      <td>NaN</td>\n",
       "      <td>4</td>\n",
       "      <td>NaN</td>\n",
       "      <td>NaN</td>\n",
       "      <td>1</td>\n",
       "      <td>0</td>\n",
       "      <td>[-0.11526176, -0.09743151, -0.020272827, 0.009...</td>\n",
       "      <td>None</td>\n",
       "      <td>NaN</td>\n",
       "    </tr>\n",
       "    <tr>\n",
       "      <th>23696</th>\n",
       "      <td>1.748405e+09</td>\n",
       "      <td>route-views2.saopaulo</td>\n",
       "      <td>263009</td>\n",
       "      <td>187.16.222.221</td>\n",
       "      <td>A</td>\n",
       "      <td>101.32.0.0/20</td>\n",
       "      <td>187.16.222.221</td>\n",
       "      <td>263009 3356 52468 53013</td>\n",
       "      <td>53013</td>\n",
       "      <td>4</td>\n",
       "      <td>5.567167</td>\n",
       "      <td>4</td>\n",
       "      <td>0.0</td>\n",
       "      <td>0.0</td>\n",
       "      <td>1</td>\n",
       "      <td>0</td>\n",
       "      <td>[-0.109163135, -0.08994652, -0.033548128, 0.02...</td>\n",
       "      <td>[-0.11526176, -0.09743151, -0.020272827, 0.009...</td>\n",
       "      <td>0.110881</td>\n",
       "    </tr>\n",
       "    <tr>\n",
       "      <th>23697</th>\n",
       "      <td>1.748405e+09</td>\n",
       "      <td>route-views2.saopaulo</td>\n",
       "      <td>49544</td>\n",
       "      <td>187.16.220.229</td>\n",
       "      <td>A</td>\n",
       "      <td>101.32.0.0/20</td>\n",
       "      <td>187.16.220.229</td>\n",
       "      <td>49544 3356 52468 53013</td>\n",
       "      <td>53013</td>\n",
       "      <td>4</td>\n",
       "      <td>1.157437</td>\n",
       "      <td>4</td>\n",
       "      <td>0.0</td>\n",
       "      <td>0.0</td>\n",
       "      <td>1</td>\n",
       "      <td>0</td>\n",
       "      <td>[-0.10434281, -0.12043201, 0.027555868, -0.002...</td>\n",
       "      <td>[-0.109163135, -0.08994652, -0.033548128, 0.02...</td>\n",
       "      <td>0.153625</td>\n",
       "    </tr>\n",
       "    <tr>\n",
       "      <th>23698</th>\n",
       "      <td>1.748405e+09</td>\n",
       "      <td>route-views2.saopaulo</td>\n",
       "      <td>199524</td>\n",
       "      <td>187.16.222.229</td>\n",
       "      <td>A</td>\n",
       "      <td>101.32.0.0/20</td>\n",
       "      <td>187.16.222.229</td>\n",
       "      <td>199524 3356 52468 53013</td>\n",
       "      <td>53013</td>\n",
       "      <td>4</td>\n",
       "      <td>0.606782</td>\n",
       "      <td>4</td>\n",
       "      <td>0.0</td>\n",
       "      <td>0.0</td>\n",
       "      <td>1</td>\n",
       "      <td>0</td>\n",
       "      <td>[-0.145274, -0.024599299, 0.05076105, -0.01027...</td>\n",
       "      <td>[-0.10434281, -0.12043201, 0.027555868, -0.002...</td>\n",
       "      <td>0.252730</td>\n",
       "    </tr>\n",
       "    <tr>\n",
       "      <th>23699</th>\n",
       "      <td>1.748405e+09</td>\n",
       "      <td>route-views2.saopaulo</td>\n",
       "      <td>52468</td>\n",
       "      <td>187.16.208.180</td>\n",
       "      <td>W</td>\n",
       "      <td>101.32.0.0/20</td>\n",
       "      <td>None</td>\n",
       "      <td>None</td>\n",
       "      <td>None</td>\n",
       "      <td>0</td>\n",
       "      <td>NaN</td>\n",
       "      <td>0</td>\n",
       "      <td>NaN</td>\n",
       "      <td>NaN</td>\n",
       "      <td>1</td>\n",
       "      <td>0</td>\n",
       "      <td>None</td>\n",
       "      <td>None</td>\n",
       "      <td>NaN</td>\n",
       "    </tr>\n",
       "  </tbody>\n",
       "</table>\n",
       "</div>"
      ],
      "text/plain": [
       "               time              collector  peer_asn         peer_ip type  \\\n",
       "23695  1.748405e+09  route-views2.saopaulo    271253  187.16.209.243    A   \n",
       "23696  1.748405e+09  route-views2.saopaulo    263009  187.16.222.221    A   \n",
       "23697  1.748405e+09  route-views2.saopaulo     49544  187.16.220.229    A   \n",
       "23698  1.748405e+09  route-views2.saopaulo    199524  187.16.222.229    A   \n",
       "23699  1.748405e+09  route-views2.saopaulo     52468  187.16.208.180    W   \n",
       "\n",
       "              prefix        next_hop                  as_path origin  \\\n",
       "23695  101.32.0.0/20  187.16.209.243  271253 3356 52468 53013  53013   \n",
       "23696  101.32.0.0/20  187.16.222.221  263009 3356 52468 53013  53013   \n",
       "23697  101.32.0.0/20  187.16.220.229   49544 3356 52468 53013  53013   \n",
       "23698  101.32.0.0/20  187.16.222.229  199524 3356 52468 53013  53013   \n",
       "23699  101.32.0.0/20            None                     None   None   \n",
       "\n",
       "       as_path_length  secs_between_announcements  unique_as_in_path  \\\n",
       "23695               4                         NaN                  4   \n",
       "23696               4                    5.567167                  4   \n",
       "23697               4                    1.157437                  4   \n",
       "23698               4                    0.606782                  4   \n",
       "23699               0                         NaN                  0   \n",
       "\n",
       "       as_path_length_diff_A  as_path_length_diff_A_abs  origin_at_time_nuniq  \\\n",
       "23695                    NaN                        NaN                     1   \n",
       "23696                    0.0                        0.0                     1   \n",
       "23697                    0.0                        0.0                     1   \n",
       "23698                    0.0                        0.0                     1   \n",
       "23699                    NaN                        NaN                     1   \n",
       "\n",
       "       MOAS                                  as_path_embedding  \\\n",
       "23695     0  [-0.11526176, -0.09743151, -0.020272827, 0.009...   \n",
       "23696     0  [-0.109163135, -0.08994652, -0.033548128, 0.02...   \n",
       "23697     0  [-0.10434281, -0.12043201, 0.027555868, -0.002...   \n",
       "23698     0  [-0.145274, -0.024599299, 0.05076105, -0.01027...   \n",
       "23699     0                                               None   \n",
       "\n",
       "                                          prev_embedding  \\\n",
       "23695                                               None   \n",
       "23696  [-0.11526176, -0.09743151, -0.020272827, 0.009...   \n",
       "23697  [-0.109163135, -0.08994652, -0.033548128, 0.02...   \n",
       "23698  [-0.10434281, -0.12043201, 0.027555868, -0.002...   \n",
       "23699                                               None   \n",
       "\n",
       "       cosine_distance_prev_A  \n",
       "23695                     NaN  \n",
       "23696                0.110881  \n",
       "23697                0.153625  \n",
       "23698                0.252730  \n",
       "23699                     NaN  "
      ]
     },
     "metadata": {},
     "output_type": "display_data"
    }
   ],
   "source": [
    "import warnings\n",
    "\n",
    "warnings.simplefilter(\"ignore\")\n",
    "\n",
    "import pandas as pd\n",
    "import numpy as np\n",
    "from tqdm import tqdm\n",
    "from datetime import datetime, timezone\n",
    "import os\n",
    "from copy import deepcopy\n",
    "import random\n",
    "import math\n",
    "import json\n",
    "\n",
    "import matplotlib.pyplot as plt\n",
    "from matplotlib.dates import AutoDateLocator, ConciseDateFormatter\n",
    "import seaborn as sns\n",
    "\n",
    "from sklearn.cluster import MiniBatchKMeans\n",
    "from sklearn.decomposition import PCA\n",
    "from sklearn.preprocessing import MinMaxScaler\n",
    "\n",
    "from sentence_transformers import SentenceTransformer\n",
    "\n",
    "import torch\n",
    "import torch.nn as nn\n",
    "import torch.optim as optim\n",
    "from torch.utils.data import TensorDataset, DataLoader\n",
    "device = 'cuda' if torch.cuda.is_available() else 'cpu'\n",
    "\n",
    "PATH = r'C:\\Users\\chris\\Documents\\Code\\MNA\\Proyecto_integrador\\BGP-Hijacking-detection\\data\\processed\\Filtrado_Mayo_28_2025_output.parquet'\n",
    "\n",
    "DATA_DIR = r\"C:\\Users\\chris\\Documents\\Code\\MNA\\Proyecto_integrador\\BGP-Hijacking-detection\"\n",
    "CKPT_DIR = f\"{DATA_DIR}/models/checkpoints\"\n",
    "FIG_DIR = f\"{DATA_DIR}/reports/figures\"\n",
    "REP_DIR = f\"{DATA_DIR}/reports\"\n",
    "MOD_DIR = f\"{DATA_DIR}/models\"\n",
    "\n",
    "# Ventanas del evento y testigos (UTC)\n",
    "EVENT_START = pd.Timestamp(\"2025-05-28 04:08:00\", tz=\"UTC\")\n",
    "EVENT_END   = pd.Timestamp(\"2025-05-28 04:37:00\", tz=\"UTC\")\n",
    "WITNESS_BEFORE = (EVENT_START - pd.Timedelta(\"30min\"), EVENT_START)\n",
    "WITNESS_AFTER  = (EVENT_END, EVENT_END + pd.Timedelta(\"30min\"))\n",
    "\n",
    "# Semillas y dispositivo\n",
    "SEED = 42\n",
    "random.seed(SEED); np.random.seed(SEED); torch.manual_seed(SEED)\n",
    "\n",
    "df = pd.read_parquet(PATH, engine=\"pyarrow\")\n",
    "print(\"Shape: \", df.shape)\n",
    "print(\"Columnas:\", list(df.columns))\n",
    "display(df.head(5))"
   ]
  },
  {
   "cell_type": "markdown",
   "id": "92ef7b10",
   "metadata": {},
   "source": [
    "# GRU"
   ]
  },
  {
   "cell_type": "markdown",
   "id": "94391b4b",
   "metadata": {},
   "source": [
    "## Load and Preprocess Data"
   ]
  },
  {
   "cell_type": "code",
   "execution_count": 2,
   "id": "1332c87f",
   "metadata": {},
   "outputs": [
    {
     "name": "stdout",
     "output_type": "stream",
     "text": [
      "Filtered dataset shape: (303271, 19)\n",
      "Percentage retained: 95.88%\n"
     ]
    }
   ],
   "source": [
    "# Filter valid announcements\n",
    "df_filtered = df[\n",
    "    (df['type'] == 'A') & \n",
    "    (df['as_path_embedding'].notna())\n",
    "].sort_values('time').reset_index(drop=True)\n",
    "\n",
    "print(f'Filtered dataset shape: {df_filtered.shape}')\n",
    "print(f'Percentage retained: {100 * len(df_filtered) / len(df):.2f}%')"
   ]
  },
  {
   "cell_type": "markdown",
   "id": "2aa21b94",
   "metadata": {},
   "source": [
    "## Selected Features:\n",
    "1. **AS Path Embedding** → PCA to 49 components (95% variance)\n",
    "2. **as_path_length_diff_A** → High CV (96.2)\n",
    "3. **secs_between_announcements** → Temporal patterns\n",
    "4. **cosine_distance_prev_A** → Route similarity"
   ]
  },
  {
   "cell_type": "code",
   "execution_count": 3,
   "id": "78252a66",
   "metadata": {},
   "outputs": [
    {
     "name": "stdout",
     "output_type": "stream",
     "text": [
      "Original embedding shape: (303271, 384)\n",
      "Reduced embedding shape: (303271, 49)\n",
      "Explained variance: 0.9503\n"
     ]
    }
   ],
   "source": [
    "# Extract embeddings and apply PCA\n",
    "embeddings = np.stack(df_filtered['as_path_embedding'].to_numpy())\n",
    "print(f'Original embedding shape: {embeddings.shape}')\n",
    "\n",
    "# Apply PCA\n",
    "pca = PCA(n_components=49, random_state=42)\n",
    "embeddings_reduced = pca.fit_transform(embeddings)\n",
    "\n",
    "print(f'Reduced embedding shape: {embeddings_reduced.shape}')\n",
    "print(f'Explained variance: {pca.explained_variance_ratio_.sum():.4f}')"
   ]
  },
  {
   "cell_type": "code",
   "execution_count": 4,
   "id": "95c35f85",
   "metadata": {},
   "outputs": [
    {
     "name": "stdout",
     "output_type": "stream",
     "text": [
      "Scaled scalars shape: (303271, 3)\n"
     ]
    }
   ],
   "source": [
    "# Extract and scale scalar features\n",
    "scalar_features = [\n",
    "    'as_path_length_diff_A',\n",
    "    'secs_between_announcements',\n",
    "    'cosine_distance_prev_A'\n",
    "]\n",
    "\n",
    "df_scalars = df_filtered[scalar_features].fillna(0)\n",
    "\n",
    "scaler_diff = MinMaxScaler(feature_range=(-1, 1))\n",
    "scaler_secs = MinMaxScaler(feature_range=(0, 1))\n",
    "scaler_cos = MinMaxScaler(feature_range=(0, 1))\n",
    "\n",
    "scalars_scaled = np.column_stack([\n",
    "    scaler_diff.fit_transform(df_scalars[['as_path_length_diff_A']]),\n",
    "    scaler_secs.fit_transform(df_scalars[['secs_between_announcements']]),\n",
    "    scaler_cos.fit_transform(df_scalars[['cosine_distance_prev_A']])\n",
    "])\n",
    "\n",
    "print(f'Scaled scalars shape: {scalars_scaled.shape}')"
   ]
  },
  {
   "cell_type": "code",
   "execution_count": 5,
   "id": "8b021a0b",
   "metadata": {},
   "outputs": [
    {
     "name": "stdout",
     "output_type": "stream",
     "text": [
      "Combined feature matrix shape: (303271, 52)\n",
      "Total features: 52 (49 PCA + 3 scalars)\n"
     ]
    }
   ],
   "source": [
    "# Combine features\n",
    "X_combined = np.hstack([embeddings_reduced, scalars_scaled]).astype(np.float32)\n",
    "\n",
    "print(f'Combined feature matrix shape: {X_combined.shape}')\n",
    "print(f'Total features: {X_combined.shape[1]} (49 PCA + 3 scalars)')"
   ]
  },
  {
   "cell_type": "markdown",
   "id": "d3c02d11",
   "metadata": {},
   "source": [
    "## Create Sequences for GRU\n",
    "\n",
    "Convert time-series data into sequences of length 10."
   ]
  },
  {
   "cell_type": "code",
   "execution_count": 6,
   "id": "7c82bea7",
   "metadata": {},
   "outputs": [
    {
     "name": "stdout",
     "output_type": "stream",
     "text": [
      "Sequences shape: (303262, 10, 52)\n",
      "  - Number of sequences: 303262\n",
      "  - Sequence length: 10\n",
      "  - Features per time step: 52\n"
     ]
    }
   ],
   "source": [
    "def create_sequences(data, seq_length=10, stride=1):\n",
    "    sequences = []\n",
    "    for i in range(0, len(data) - seq_length + 1, stride):\n",
    "        seq = data[i:i+seq_length]\n",
    "        sequences.append(seq)\n",
    "    return np.array(sequences)\n",
    "\n",
    "SEQ_LENGTH = 10\n",
    "STRIDE = 1\n",
    "\n",
    "X_sequences = create_sequences(X_combined, seq_length=SEQ_LENGTH, stride=STRIDE)\n",
    "\n",
    "print(f'Sequences shape: {X_sequences.shape}')\n",
    "print(f'  - Number of sequences: {X_sequences.shape[0]}')\n",
    "print(f'  - Sequence length: {X_sequences.shape[1]}')\n",
    "print(f'  - Features per time step: {X_sequences.shape[2]}')"
   ]
  },
  {
   "cell_type": "markdown",
   "id": "4ef8014b",
   "metadata": {},
   "source": [
    "## Train/Validation/Test Split"
   ]
  },
  {
   "cell_type": "code",
   "execution_count": 7,
   "id": "063c9f5c",
   "metadata": {},
   "outputs": [
    {
     "name": "stdout",
     "output_type": "stream",
     "text": [
      "Train set: (212283, 10, 52)\n",
      "Validation set: (45489, 10, 52)\n",
      "Test set: (45490, 10, 52)\n"
     ]
    }
   ],
   "source": [
    "N = len(X_sequences)\n",
    "idx_train = int(N * 0.7)\n",
    "idx_val = int(N * 0.85)\n",
    "\n",
    "X_train = X_sequences[:idx_train]\n",
    "X_val = X_sequences[idx_train:idx_val]\n",
    "X_test = X_sequences[idx_val:]\n",
    "\n",
    "print(f'Train set: {X_train.shape}')\n",
    "print(f'Validation set: {X_val.shape}')\n",
    "print(f'Test set: {X_test.shape}')"
   ]
  },
  {
   "cell_type": "code",
   "execution_count": 8,
   "id": "d97554d1",
   "metadata": {},
   "outputs": [
    {
     "name": "stdout",
     "output_type": "stream",
     "text": [
      "Train batches: 830\n",
      "Validation batches: 178\n",
      "Test batches: 178\n"
     ]
    }
   ],
   "source": [
    "# Convert to PyTorch tensors and create DataLoaders\n",
    "X_train_tensor = torch.from_numpy(X_train).float()\n",
    "X_val_tensor = torch.from_numpy(X_val).float()\n",
    "X_test_tensor = torch.from_numpy(X_test).float()\n",
    "\n",
    "train_dataset = TensorDataset(X_train_tensor, X_train_tensor)\n",
    "val_dataset = TensorDataset(X_val_tensor, X_val_tensor)\n",
    "test_dataset = TensorDataset(X_test_tensor, X_test_tensor)\n",
    "\n",
    "BATCH_SIZE = 256\n",
    "\n",
    "train_loader = DataLoader(train_dataset, batch_size=BATCH_SIZE, shuffle=False, pin_memory=True)\n",
    "val_loader = DataLoader(val_dataset, batch_size=BATCH_SIZE, shuffle=False, pin_memory=True)\n",
    "test_loader = DataLoader(test_dataset, batch_size=BATCH_SIZE, shuffle=False, pin_memory=True)\n",
    "\n",
    "print(f'Train batches: {len(train_loader)}')\n",
    "print(f'Validation batches: {len(val_loader)}')\n",
    "print(f'Test batches: {len(test_loader)}')"
   ]
  },
  {
   "cell_type": "markdown",
   "id": "05d757d8",
   "metadata": {},
   "source": [
    "## GRU Autoencoder Model"
   ]
  },
  {
   "cell_type": "code",
   "execution_count": 9,
   "id": "329bd0f2",
   "metadata": {},
   "outputs": [],
   "source": [
    "class GRUAutoencoder(nn.Module):\n",
    "    def __init__(self, input_dim, hidden_dim=128, latent_dim=32, num_layers=2, dropout=0.2):\n",
    "        super(GRUAutoencoder, self).__init__()\n",
    "        \n",
    "        self.input_dim = input_dim\n",
    "        self.hidden_dim = hidden_dim\n",
    "        self.latent_dim = latent_dim\n",
    "        self.num_layers = num_layers\n",
    "        \n",
    "        # Encoder GRU\n",
    "        self.encoder_gru = nn.GRU(\n",
    "            input_size=input_dim,\n",
    "            hidden_size=hidden_dim,\n",
    "            num_layers=num_layers,\n",
    "            batch_first=True,\n",
    "            dropout=dropout if num_layers > 1 else 0\n",
    "        )\n",
    "        \n",
    "        # Encoder to latent\n",
    "        self.encoder_fc = nn.Sequential(\n",
    "            nn.Linear(hidden_dim, latent_dim),\n",
    "            nn.Tanh()\n",
    "        )\n",
    "        \n",
    "        # Latent to decoder\n",
    "        self.decoder_fc = nn.Sequential(\n",
    "            nn.Linear(latent_dim, hidden_dim),\n",
    "            nn.ReLU()\n",
    "        )\n",
    "        \n",
    "        # Decoder GRU\n",
    "        self.decoder_gru = nn.GRU(\n",
    "            input_size=hidden_dim,\n",
    "            hidden_size=hidden_dim,\n",
    "            num_layers=num_layers,\n",
    "            batch_first=True,\n",
    "            dropout=dropout if num_layers > 1 else 0\n",
    "        )\n",
    "        \n",
    "        # Output layer\n",
    "        self.output_layer = nn.Linear(hidden_dim, input_dim)\n",
    "    \n",
    "    def encode(self, x):\n",
    "        _, hidden = self.encoder_gru(x)\n",
    "        hidden_last = hidden[-1]\n",
    "        latent = self.encoder_fc(hidden_last)\n",
    "        return latent\n",
    "    \n",
    "    def decode(self, latent, seq_len):\n",
    "        batch_size = latent.size(0)\n",
    "        decoder_hidden = self.decoder_fc(latent)\n",
    "        decoder_input = decoder_hidden.unsqueeze(1).repeat(1, seq_len, 1)\n",
    "        decoder_output, _ = self.decoder_gru(decoder_input)\n",
    "        output = self.output_layer(decoder_output)\n",
    "        return output\n",
    "    \n",
    "    def forward(self, x):\n",
    "        seq_len = x.size(1)\n",
    "        latent = self.encode(x)\n",
    "        reconstructed = self.decode(latent, seq_len)\n",
    "        return reconstructed, latent"
   ]
  },
  {
   "cell_type": "code",
   "execution_count": 10,
   "id": "760e43ec",
   "metadata": {},
   "outputs": [
    {
     "name": "stdout",
     "output_type": "stream",
     "text": [
      "GRUAutoencoder(\n",
      "  (encoder_gru): GRU(52, 128, num_layers=2, batch_first=True, dropout=0.2)\n",
      "  (encoder_fc): Sequential(\n",
      "    (0): Linear(in_features=128, out_features=16, bias=True)\n",
      "    (1): Tanh()\n",
      "  )\n",
      "  (decoder_fc): Sequential(\n",
      "    (0): Linear(in_features=16, out_features=128, bias=True)\n",
      "    (1): ReLU()\n",
      "  )\n",
      "  (decoder_gru): GRU(128, 128, num_layers=2, batch_first=True, dropout=0.2)\n",
      "  (output_layer): Linear(in_features=128, out_features=52, bias=True)\n",
      ")\n",
      "\n",
      "Total parameters: 378,052\n"
     ]
    }
   ],
   "source": [
    "# Initialize model\n",
    "INPUT_DIM = X_combined.shape[1]\n",
    "HIDDEN_DIM = 128\n",
    "LATENT_DIM = 16\n",
    "NUM_LAYERS = 2\n",
    "DROPOUT = 0.2\n",
    "\n",
    "model = GRUAutoencoder(\n",
    "    input_dim=INPUT_DIM,\n",
    "    hidden_dim=HIDDEN_DIM,\n",
    "    latent_dim=LATENT_DIM,\n",
    "    num_layers=NUM_LAYERS,\n",
    "    dropout=DROPOUT\n",
    ").to(device)\n",
    "\n",
    "print(model)\n",
    "print(f'\\nTotal parameters: {sum(p.numel() for p in model.parameters()):,}')"
   ]
  },
  {
   "cell_type": "markdown",
   "id": "41511013",
   "metadata": {},
   "source": [
    "## Training Function"
   ]
  },
  {
   "cell_type": "code",
   "execution_count": 11,
   "id": "70f6397b",
   "metadata": {},
   "outputs": [],
   "source": [
    "def train_gru_autoencoder(\n",
    "    model, train_loader, val_loader, optimizer, criterion, device,\n",
    "    max_epochs=50, patience=7, min_delta=1e-6,\n",
    "    ckpt_dir='checkpoints', ckpt_name='best_gru_model.pt', verbose=True\n",
    "):\n",
    "    os.makedirs(ckpt_dir, exist_ok=True)\n",
    "    \n",
    "    best_val_loss = float('inf')\n",
    "    wait = 0\n",
    "    train_losses = []\n",
    "    val_losses = []\n",
    "    \n",
    "    for epoch in range(1, max_epochs + 1):\n",
    "        # Training\n",
    "        model.train()\n",
    "        train_loss_sum = 0.0\n",
    "        n_train = 0\n",
    "        \n",
    "        for xb, yb in train_loader:\n",
    "            xb = xb.to(device)\n",
    "            yb = yb.to(device)\n",
    "            \n",
    "            optimizer.zero_grad()\n",
    "            reconstructed, latent = model(xb)\n",
    "            loss = criterion(reconstructed, yb)\n",
    "            loss.backward()\n",
    "            torch.nn.utils.clip_grad_norm_(model.parameters(), max_norm=1.0)\n",
    "            optimizer.step()\n",
    "            \n",
    "            train_loss_sum += loss.item() * xb.size(0)\n",
    "            n_train += xb.size(0)\n",
    "        \n",
    "        train_loss = train_loss_sum / n_train\n",
    "        train_losses.append(train_loss)\n",
    "        \n",
    "        # Validation\n",
    "        model.eval()\n",
    "        val_loss_sum = 0.0\n",
    "        n_val = 0\n",
    "        \n",
    "        with torch.no_grad():\n",
    "            for xb, yb in val_loader:\n",
    "                xb = xb.to(device)\n",
    "                yb = yb.to(device)\n",
    "                reconstructed, _ = model(xb)\n",
    "                loss = criterion(reconstructed, yb)\n",
    "                val_loss_sum += loss.item() * xb.size(0)\n",
    "                n_val += xb.size(0)\n",
    "        \n",
    "        val_loss = val_loss_sum / n_val\n",
    "        val_losses.append(val_loss)\n",
    "        \n",
    "        if verbose:\n",
    "            print(f'[Epoch {epoch:03d}] train_loss={train_loss:.6f}  val_loss={val_loss:.6f}')\n",
    "        \n",
    "        # Early stopping\n",
    "        if (best_val_loss - val_loss) > min_delta:\n",
    "            best_val_loss = val_loss\n",
    "            wait = 0\n",
    "            torch.save(model, os.path.join(ckpt_dir, ckpt_name))\n",
    "            if verbose:\n",
    "                print(f'✅ Best model saved')\n",
    "        else:\n",
    "            wait += 1\n",
    "            if verbose:\n",
    "                print(f'⚠️  No improvement ({wait}/{patience})')\n",
    "            \n",
    "            if wait >= patience:\n",
    "                if verbose:\n",
    "                    print(f'⏹️ Early stopping at epoch {epoch}')\n",
    "                break\n",
    "    \n",
    "    return {\n",
    "        'train_losses': train_losses,\n",
    "        'val_losses': val_losses,\n",
    "        'best_val_loss': best_val_loss,\n",
    "        'best_model_path': os.path.join(ckpt_dir, ckpt_name)\n",
    "    }"
   ]
  },
  {
   "cell_type": "markdown",
   "id": "6014c65a",
   "metadata": {},
   "source": [
    "## Train the Model"
   ]
  },
  {
   "cell_type": "code",
   "execution_count": 12,
   "id": "6a64cdfa",
   "metadata": {},
   "outputs": [
    {
     "name": "stdout",
     "output_type": "stream",
     "text": [
      "[Epoch 001] train_loss=0.004186  val_loss=0.004405\n",
      "✅ Best model saved\n",
      "[Epoch 002] train_loss=0.003717  val_loss=0.004191\n",
      "✅ Best model saved\n",
      "[Epoch 003] train_loss=0.003585  val_loss=0.004111\n",
      "✅ Best model saved\n",
      "[Epoch 004] train_loss=0.003593  val_loss=0.004109\n",
      "✅ Best model saved\n",
      "[Epoch 005] train_loss=0.003457  val_loss=0.004125\n",
      "⚠️  No improvement (1/7)\n",
      "[Epoch 006] train_loss=0.003408  val_loss=0.004030\n",
      "✅ Best model saved\n",
      "[Epoch 007] train_loss=0.003409  val_loss=0.003983\n",
      "✅ Best model saved\n",
      "[Epoch 008] train_loss=0.003341  val_loss=0.003984\n",
      "⚠️  No improvement (1/7)\n",
      "[Epoch 009] train_loss=0.003344  val_loss=0.003962\n",
      "✅ Best model saved\n",
      "[Epoch 010] train_loss=0.003307  val_loss=0.003961\n",
      "✅ Best model saved\n",
      "[Epoch 011] train_loss=0.003311  val_loss=0.003974\n",
      "⚠️  No improvement (1/7)\n",
      "[Epoch 012] train_loss=0.003249  val_loss=0.003959\n",
      "✅ Best model saved\n",
      "[Epoch 013] train_loss=0.003272  val_loss=0.003967\n",
      "⚠️  No improvement (1/7)\n",
      "[Epoch 014] train_loss=0.003259  val_loss=0.003980\n",
      "⚠️  No improvement (2/7)\n",
      "[Epoch 015] train_loss=0.003252  val_loss=0.003955\n",
      "✅ Best model saved\n",
      "[Epoch 016] train_loss=0.003238  val_loss=0.003949\n",
      "✅ Best model saved\n",
      "[Epoch 017] train_loss=0.003240  val_loss=0.003964\n",
      "⚠️  No improvement (1/7)\n",
      "[Epoch 018] train_loss=0.003234  val_loss=0.003939\n",
      "✅ Best model saved\n",
      "[Epoch 019] train_loss=0.003245  val_loss=0.003948\n",
      "⚠️  No improvement (1/7)\n",
      "[Epoch 020] train_loss=0.003220  val_loss=0.003944\n",
      "⚠️  No improvement (2/7)\n",
      "[Epoch 021] train_loss=0.003224  val_loss=0.003961\n",
      "⚠️  No improvement (3/7)\n",
      "[Epoch 022] train_loss=0.003222  val_loss=0.003982\n",
      "⚠️  No improvement (4/7)\n",
      "[Epoch 023] train_loss=0.003220  val_loss=0.003964\n",
      "⚠️  No improvement (5/7)\n",
      "[Epoch 024] train_loss=0.003218  val_loss=0.003975\n",
      "⚠️  No improvement (6/7)\n",
      "[Epoch 025] train_loss=0.003215  val_loss=0.003949\n",
      "⚠️  No improvement (7/7)\n",
      "⏹️ Early stopping at epoch 25\n",
      "\n",
      "Training complete!\n",
      "Best validation loss: 0.003939\n"
     ]
    }
   ],
   "source": [
    "criterion = nn.MSELoss(reduction='mean')\n",
    "optimizer = optim.Adam(model.parameters(), lr=1e-3, weight_decay=1e-5)\n",
    "\n",
    "history = train_gru_autoencoder(\n",
    "    model=model,\n",
    "    train_loader=train_loader,\n",
    "    val_loader=val_loader,\n",
    "    optimizer=optimizer,\n",
    "    criterion=criterion,\n",
    "    device=device,\n",
    "    max_epochs=50,\n",
    "    patience=7,\n",
    "    ckpt_dir='../models/checkpoints',\n",
    "    ckpt_name='best_gru_model.pt',\n",
    "    verbose=True\n",
    ")\n",
    "\n",
    "print(f'\\nTraining complete!')\n",
    "print(f'Best validation loss: {history[\"best_val_loss\"]:.6f}')"
   ]
  },
  {
   "cell_type": "code",
   "execution_count": 13,
   "id": "b049ff6e",
   "metadata": {},
   "outputs": [
    {
     "data": {
      "image/png": "[encoded data removed]",
      "text/plain": [
       "<Figure size 1000x500 with 1 Axes>"
      ]
     },
     "metadata": {},
     "output_type": "display_data"
    }
   ],
   "source": [
    "plt.figure(figsize=(10, 5))\n",
    "plt.plot(history['train_losses'], label='Train Loss', linewidth=2)\n",
    "plt.plot(history['val_losses'], label='Validation Loss', linewidth=2)\n",
    "plt.xlabel('Epoch')\n",
    "plt.ylabel('MSE Loss')\n",
    "plt.title('GRU Autoencoder Training History')\n",
    "plt.legend()\n",
    "plt.grid(True, alpha=0.3)\n",
    "plt.tight_layout()\n",
    "plt.show()"
   ]
  },
  {
   "cell_type": "markdown",
   "id": "68f9d999",
   "metadata": {},
   "source": [
    "## Evaluate on Test Set"
   ]
  },
  {
   "cell_type": "code",
   "execution_count": 14,
   "id": "e5167ab6",
   "metadata": {},
   "outputs": [
    {
     "name": "stdout",
     "output_type": "stream",
     "text": [
      "Test set reconstruction errors:\n",
      "  Mean: 0.004927\n",
      "  Std: 0.001956\n",
      "  Min: 0.000597\n",
      "  Max: 0.019631\n"
     ]
    }
   ],
   "source": [
    "# Load best model\n",
    "best_model = torch.load(history['best_model_path'], weights_only=False)\n",
    "best_model.eval()\n",
    "\n",
    "# Calculate reconstruction errors\n",
    "test_errors = []\n",
    "\n",
    "with torch.no_grad():\n",
    "    for xb, yb in test_loader:\n",
    "        xb = xb.to(device)\n",
    "        yb = yb.to(device)\n",
    "        reconstructed, _ = best_model(xb)\n",
    "        mse = ((reconstructed - yb) ** 2).mean(dim=(1, 2))\n",
    "        test_errors.append(mse.cpu().numpy())\n",
    "\n",
    "test_errors = np.concatenate(test_errors)\n",
    "\n",
    "print(f'Test set reconstruction errors:')\n",
    "print(f'  Mean: {test_errors.mean():.6f}')\n",
    "print(f'  Std: {test_errors.std():.6f}')\n",
    "print(f'  Min: {test_errors.min():.6f}')\n",
    "print(f'  Max: {test_errors.max():.6f}')"
   ]
  },
  {
   "cell_type": "markdown",
   "id": "b8c354f4",
   "metadata": {},
   "source": [
    "## Anomaly Detection Visualization"
   ]
  },
  {
   "cell_type": "code",
   "execution_count": 15,
   "id": "b6d34b17",
   "metadata": {},
   "outputs": [
    {
     "data": {
      "image/png": "[encoded data removed]",
      "text/plain": [
       "<Figure size 1200x500 with 2 Axes>"
      ]
     },
     "metadata": {},
     "output_type": "display_data"
    },
    {
     "name": "stdout",
     "output_type": "stream",
     "text": [
      "\n",
      "Anomalies detected: 2275 / 45490 (5.00%\n"
     ]
    }
   ],
   "source": [
    "plt.figure(figsize=(12, 5))\n",
    "\n",
    "plt.subplot(1, 2, 1)\n",
    "plt.hist(test_errors, bins=50, color='steelblue', alpha=0.7, edgecolor='black')\n",
    "plt.xlabel('Reconstruction Error (MSE)')\n",
    "plt.ylabel('Frequency')\n",
    "plt.title('Distribution of Reconstruction Errors')\n",
    "plt.grid(True, alpha=0.3)\n",
    "\n",
    "plt.subplot(1, 2, 2)\n",
    "plt.plot(test_errors, linewidth=0.5, alpha=0.7)\n",
    "threshold = np.percentile(test_errors, 95)\n",
    "plt.axhline(threshold, color='red', linestyle='--', linewidth=2, label=f'95th percentile: {threshold:.4f}')\n",
    "plt.xlabel('Sequence Index')\n",
    "plt.ylabel('Reconstruction Error')\n",
    "plt.title('Reconstruction Errors Over Time')\n",
    "plt.legend()\n",
    "plt.grid(True, alpha=0.3)\n",
    "\n",
    "plt.tight_layout()\n",
    "plt.show()\n",
    "\n",
    "anomalies = test_errors > threshold\n",
    "print(f'\\nAnomalies detected: {anomalies.sum()} / {len(test_errors)} ({100*anomalies.sum()/len(test_errors):.2f}%')"
   ]
  },
  {
   "cell_type": "code",
   "execution_count": 16,
   "id": "97e73689",
   "metadata": {},
   "outputs": [
    {
     "name": "stdout",
     "output_type": "stream",
     "text": [
      "================================================================================\n",
      "RESULTS SUMMARY\n",
      "================================================================================\n",
      "model_type: GRU Autoencoder\n",
      "dataset: Filtrado_Mayo_28_2025_output.parquet\n",
      "total_samples: 303271\n",
      "sequence_length: 10\n",
      "num_sequences: 303262\n",
      "input_dim: 52\n",
      "hidden_dim: 128\n",
      "latent_dim: 16\n",
      "pca_components: 49\n",
      "selected_features: ['as_path_embedding (PCA)', 'as_path_length_diff_A', 'secs_between_announcements', 'cosine_distance_prev_A']\n",
      "best_val_loss: 0.003939216859942847\n",
      "test_mean_error: 0.004926916677504778\n",
      "test_std_error: 0.001956472173333168\n",
      "================================================================================\n"
     ]
    }
   ],
   "source": [
    "results_summary = {\n",
    "    'model_type': 'GRU Autoencoder',\n",
    "    'dataset': 'Filtrado_Mayo_28_2025_output.parquet',\n",
    "    'total_samples': len(df_filtered),\n",
    "    'sequence_length': SEQ_LENGTH,\n",
    "    'num_sequences': len(X_sequences),\n",
    "    'input_dim': INPUT_DIM,\n",
    "    'hidden_dim': HIDDEN_DIM,\n",
    "    'latent_dim': LATENT_DIM,\n",
    "    'pca_components': 49,\n",
    "    'selected_features': ['as_path_embedding (PCA)', 'as_path_length_diff_A', 'secs_between_announcements', 'cosine_distance_prev_A'],\n",
    "    'best_val_loss': history['best_val_loss'],\n",
    "    'test_mean_error': float(test_errors.mean()),\n",
    "    'test_std_error': float(test_errors.std())\n",
    "}\n",
    "\n",
    "print('='*80)\n",
    "print('RESULTS SUMMARY')\n",
    "print('='*80)\n",
    "for key, value in results_summary.items():\n",
    "    print(f'{key}: {value}')\n",
    "print('='*80)"
   ]
  },
  {
   "cell_type": "markdown",
   "id": "e9d31b08",
   "metadata": {},
   "source": [
    "# LSTM"
   ]
  },
  {
   "cell_type": "code",
   "execution_count": null,
   "id": "236be2e4",
   "metadata": {},
   "outputs": [],
   "source": [
    "# Auto-detección de unidad de epoch\n",
    "if pd.api.types.is_integer_dtype(df[\"time\"]) or pd.api.types.is_float_dtype(df[\"time\"]):\n",
    "    unit = \"ms\" if (df[\"time\"].dropna().astype(float) > 1e12).mean() > 0.5 else \"s\"\n",
    "    df[\"time\"] = pd.to_datetime(df[\"time\"], unit=unit, utc=True, errors=\"coerce\")\n",
    "elif df[\"time\"].dtype == \"datetime64[ns]\":\n",
    "    df[\"time\"] = df[\"time\"].dt.tz_localize(\"UTC\")\n",
    "\n",
    "# Filtro por tipo si existe\n",
    "if \"type\" in df.columns:\n",
    "    before = len(df)\n",
    "    df = df[df[\"type\"]==\"A\"].copy()\n",
    "    print(f\"Filtro type=='A': {before} -> {len(df)} filas\")\n",
    "else:\n",
    "    print(\"Aviso: no existe columna 'type'; se omite filtro por tipo.\")\n",
    "\n",
    "print(\"Rango temporal corregido:\", df[\"time\"].min(), \"→\", df[\"time\"].max())\n",
    "df.head(3)"
   ]
  },
  {
   "cell_type": "code",
   "execution_count": null,
   "id": "b0bd9524",
   "metadata": {},
   "outputs": [],
   "source": [
    "# [4] Etiquetado vectorizado de ventanas: testigos (antes/después) y evento; filtrado a ventanas de interés.\n",
    "m_before = (df[\"time\"] >= WITNESS_BEFORE[0]) & (df[\"time\"] <  WITNESS_BEFORE[1])\n",
    "m_event  = (df[\"time\"] >= EVENT_START)        & (df[\"time\"] <= EVENT_END)\n",
    "m_after  = (df[\"time\"] >  WITNESS_AFTER[0])   & (df[\"time\"] <= WITNESS_AFTER[1])\n",
    "\n",
    "choices = np.select([m_before, m_event, m_after],\n",
    "                    [\"witness_before\", \"event\", \"witness_after\"],\n",
    "                    default=\"out_of_scope\")\n",
    "df[\"window_label\"] = pd.Categorical(choices,\n",
    "                                    categories=[\"witness_before\",\"event\",\"witness_after\",\"out_of_scope\"],\n",
    "                                    ordered=False)\n",
    "\n",
    "print(\"Conteos preliminares:\", df[\"window_label\"].value_counts().to_dict())\n",
    "\n",
    "# Filtrar ventanas de interés y ordenar\n",
    "df = df[df[\"window_label\"]!=\"out_of_scope\"].copy()\n",
    "df = df.sort_values([\"prefix\",\"time\"]).reset_index(drop=True)\n",
    "df[\"secs_between_announcements\"] = pd.to_numeric(df[\"secs_between_announcements\"], errors=\"coerce\").fillna(0.0)\n",
    "print(\"Filas post-filtrado:\", len(df))\n",
    "df.head(3)"
   ]
  },
  {
   "cell_type": "code",
   "execution_count": null,
   "id": "b846306f",
   "metadata": {},
   "outputs": [],
   "source": [
    "# [5] Parseo robusto de 'as_path_embedding'\n",
    "def to_vec_safe(x):\n",
    "    if isinstance(x, np.ndarray) and x.ndim == 1 and x.size > 0:\n",
    "        return x.astype(np.float32)\n",
    "    if isinstance(x, (list, tuple)):\n",
    "        arr = np.array(x, dtype=np.float32)\n",
    "        return arr if arr.ndim == 1 and arr.size > 0 else None\n",
    "    if isinstance(x, str):\n",
    "        s = x.strip()\n",
    "        for parser in (json.loads, ast.literal_eval):\n",
    "            try:\n",
    "                val = parser(s)\n",
    "                arr = np.array(val, dtype=np.float32)\n",
    "                if arr.ndim == 1 and arr.size > 0:\n",
    "                    return arr\n",
    "            except Exception:\n",
    "                continue\n",
    "    return None\n",
    "\n",
    "emb_series = df[\"as_path_embedding\"].apply(to_vec_safe)\n",
    "valid_mask = emb_series.apply(lambda v: isinstance(v, np.ndarray) and v.ndim==1 and v.size>0)\n",
    "print(\"Embeddings válidos:\", valid_mask.sum(), \"/\", len(emb_series))\n",
    "\n",
    "if valid_mask.sum() == 0:\n",
    "    raise ValueError(\"No se encontraron embeddings válidos en 'as_path_embedding'. Regenera embeddings en Avance 2 y reintenta.\")\n",
    "\n",
    "# Unificar dimensión usando la mediana de longitudes y filtrar al tamaño modal\n",
    "lengths = emb_series[valid_mask].apply(len).values\n",
    "emb_dim = int(np.median(lengths))\n",
    "emb_series = emb_series[valid_mask & (emb_series.apply(len)==emb_dim)]\n",
    "df = df.loc[emb_series.index].copy()\n",
    "X_emb = np.stack(emb_series.values).astype(np.float32)\n",
    "\n",
    "# Normalización L2 de embeddings\n",
    "norms = np.linalg.norm(X_emb, axis=1, keepdims=True) + 1e-8\n",
    "X_emb = X_emb / norms\n",
    "print(\"emb_dim:\", emb_dim, \"| X_emb:\", X_emb.shape)"
   ]
  },
  {
   "cell_type": "code",
   "execution_count": null,
   "id": "090d4db7",
   "metadata": {},
   "outputs": [],
   "source": [
    "# [6] Escalado de 'secs_between_announcements' (fit en testigos) y concatenación con embeddings.\n",
    "witness_mask = df[\"window_label\"].isin([\"witness_before\",\"witness_after\"]).values\n",
    "scaler_secs = MinMaxScaler()\n",
    "secs_arr = df[[\"secs_between_announcements\"]].astype(np.float32).values\n",
    "scaler_secs.fit(secs_arr[witness_mask])\n",
    "secs_scaled = scaler_secs.transform(secs_arr).astype(np.float32)\n",
    "\n",
    "X_all = np.concatenate([X_emb, secs_scaled], axis=1).astype(np.float32)\n",
    "input_dim = X_all.shape[1]\n",
    "print(\"Input dim:\", input_dim, \"| X_all:\", X_all.shape)"
   ]
  },
  {
   "cell_type": "code",
   "execution_count": null,
   "id": "e9b170ae",
   "metadata": {},
   "outputs": [],
   "source": [
    "# [7] Resample a 5s por 'prefix' con forward-fill; acoplar features al DataFrame y rearmar matriz.\n",
    "RESAMPLE_RULE = \"5s\"\n",
    "\n",
    "def resample_prefix(g):\n",
    "    g = g.sort_values(\"time\").set_index(\"time\").resample(RESAMPLE_RULE).ffill()\n",
    "    g[\"prefix\"] = g[\"prefix\"].ffill()\n",
    "    g[\"collector\"] = g[\"collector\"].ffill()\n",
    "    g[\"window_label\"] = g[\"window_label\"].ffill()\n",
    "    return g.reset_index()\n",
    "\n",
    "feat_df = pd.DataFrame(X_all, index=df.index)\n",
    "df_rs = pd.concat([df.reset_index(drop=True), feat_df.reset_index(drop=True)], axis=1)\n",
    "df_rs = df_rs.groupby(\"prefix\", group_keys=False).apply(resample_prefix)\n",
    "\n",
    "# Identificar columnas de features (asumimos que son las últimas X_all.shape[1] columnas)\n",
    "feat_cols = df_rs.columns[-X_all.shape[1]:].tolist()\n",
    "X_mat = df_rs[feat_cols].astype(np.float32).values\n",
    "print(\"Resampled shape:\", df_rs.shape, \"| X_mat:\", X_mat.shape)"
   ]
  },
  {
   "cell_type": "code",
   "execution_count": null,
   "id": "96fd5c46",
   "metadata": {},
   "outputs": [],
   "source": [
    "# [8] Construcción de secuencias LSTM con ventana deslizante.\n",
    "SEQ_LEN = 24  # 24*5s = 120s\n",
    "STRIDE = 1\n",
    "\n",
    "sequences, labels, times_end, prefixes = [], [], [], []\n",
    "\n",
    "for pfx, g in df_rs.groupby(\"prefix\"):\n",
    "    g = g.sort_values(\"time\")\n",
    "    Xp = g[feat_cols].to_numpy(dtype=np.float32)\n",
    "    wl = g[\"window_label\"].values\n",
    "    tt = g[\"time\"].values\n",
    "    if len(g) < SEQ_LEN:\n",
    "        continue\n",
    "    for st in range(0, len(g)-SEQ_LEN+1, STRIDE):\n",
    "        ed = st + SEQ_LEN\n",
    "        sequences.append(Xp[st:ed])\n",
    "        labels.append(wl[ed-1])\n",
    "        times_end.append(tt[ed-1])\n",
    "        prefixes.append(pfx)\n",
    "\n",
    "if len(sequences)==0:\n",
    "    raise ValueError(\"No se pudieron construir secuencias. Revisa RESAMPLE_RULE, SEQ_LEN y disponibilidad por prefix.\")\n",
    "\n",
    "X_seq = np.stack(sequences).astype(np.float32)\n",
    "labels = np.array(labels)\n",
    "times_end = np.array(times_end)\n",
    "prefixes = np.array(prefixes)\n",
    "\n",
    "print(\"X_seq:\", X_seq.shape, \"| labels:\", np.unique(labels, return_counts=True))"
   ]
  },
  {
   "cell_type": "code",
   "execution_count": null,
   "id": "3316479a",
   "metadata": {},
   "outputs": [],
   "source": [
    "# [9] Splits: train/val con testigos; test(event) y testigos para FPR.\n",
    "idx_witness = np.where(np.isin(labels, [\"witness_before\",\"witness_after\"]))[0]\n",
    "idx_event = np.where(labels==\"event\")[0]\n",
    "\n",
    "iw_sorted = idx_witness[np.argsort(times_end[idx_witness])]\n",
    "cut = int(0.8 * len(iw_sorted)) if len(iw_sorted)>0 else 0\n",
    "train_idx = iw_sorted[:cut]\n",
    "val_idx = iw_sorted[cut:]\n",
    "test_event_idx = idx_event\n",
    "\n",
    "test_wb_idx = np.where(labels==\"witness_before\")[0]\n",
    "test_wa_idx = np.where(labels==\"witness_after\")[0]\n",
    "\n",
    "def take(idx):\n",
    "    return (X_seq[idx] if len(idx)>0 else np.zeros((0, SEQ_LEN, X_seq.shape[2]), dtype=np.float32)),            (labels[idx] if len(idx)>0 else np.array([])),            (times_end[idx] if len(idx)>0 else np.array([])),            (prefixes[idx] if len(idx)>0 else np.array([]))\n",
    "\n",
    "X_train, y_train, t_train, p_train = take(train_idx)\n",
    "X_val, y_val, t_val, p_val = take(val_idx)\n",
    "X_test_event, y_te, t_te, p_te = take(test_event_idx)\n",
    "X_test_wb, y_wb, t_wb, p_wb = take(test_wb_idx)\n",
    "X_test_wa, y_wa, t_wa, p_wa = take(test_wa_idx)\n",
    "\n",
    "print(\"Train:\", X_train.shape, \"Val:\", X_val.shape, \"Test(event):\", X_test_event.shape)"
   ]
  },
  {
   "cell_type": "code",
   "execution_count": null,
   "id": "8d039260",
   "metadata": {},
   "outputs": [],
   "source": [
    "# [10] DataLoaders: datasets y loaders con pin_memory.\n",
    "class SeqDataset(Dataset):\n",
    "    def __init__(self, X):\n",
    "        self.X = torch.from_numpy(X).float()\n",
    "    def __len__(self): return self.X.shape[0]\n",
    "    def __getitem__(self, i): return self.X[i]\n",
    "\n",
    "BATCH = 256\n",
    "num_workers = 0\n",
    "\n",
    "dl_train = DataLoader(SeqDataset(X_train), batch_size=BATCH, shuffle=False, pin_memory=True, num_workers=num_workers)\n",
    "dl_val   = DataLoader(SeqDataset(X_val),   batch_size=BATCH, shuffle=False, pin_memory=True, num_workers=num_workers)\n",
    "dl_te    = DataLoader(SeqDataset(X_test_event), batch_size=BATCH, shuffle=False, pin_memory=True, num_workers=num_workers)\n",
    "dl_wb    = DataLoader(SeqDataset(X_test_wb), batch_size=BATCH, shuffle=False, pin_memory=True, num_workers=num_workers)\n",
    "dl_wa    = DataLoader(SeqDataset(X_test_wa), batch_size=BATCH, shuffle=False, pin_memory=True, num_workers=num_workers)\n",
    "\n",
    "input_dim = X_train.shape[2] if X_train.size else (X_seq.shape[2] if X_seq.size else 0)\n",
    "print(\"Input dim (LSTM):\", input_dim)"
   ]
  },
  {
   "cell_type": "code",
   "execution_count": null,
   "id": "50c322e9",
   "metadata": {},
   "outputs": [],
   "source": [
    "# [11] Modelo LSTM Autoencoder: encoder-decoder con proyección de salida.\n",
    "class LSTMAE(nn.Module):\n",
    "    def __init__(self, input_dim, hidden_dim=128, latent_dim=64, num_layers=2, dropout=0.1):\n",
    "        super().__init__()\n",
    "        self.encoder = nn.LSTM(input_dim, hidden_dim, num_layers=num_layers, batch_first=True, dropout=dropout)\n",
    "        self.to_latent = nn.Linear(hidden_dim, latent_dim)\n",
    "        self.decoder = nn.LSTM(latent_dim, hidden_dim, num_layers=num_layers, batch_first=True, dropout=dropout)\n",
    "        self.to_out = nn.Linear(hidden_dim, input_dim)\n",
    "\n",
    "    def forward(self, x):\n",
    "        enc_out, _ = self.encoder(x)         # [B,T,H]\n",
    "        last_h = enc_out[:, -1, :]           # [B,H]\n",
    "        z = self.to_latent(last_h)           # [B,Z]\n",
    "        T = x.size(1)\n",
    "        z_rep = z.unsqueeze(1).repeat(1, T, 1)  # [B,T,Z]\n",
    "        dec_out, _ = self.decoder(z_rep)        # [B,T,H]\n",
    "        y_hat = self.to_out(dec_out)            # [B,T,D]\n",
    "        return y_hat, z\n",
    "\n",
    "if input_dim == 0:\n",
    "    raise ValueError(\"input_dim=0: no hay features para el modelo. Revisa pasos previos.\")\n",
    "model = LSTMAE(input_dim=input_dim, hidden_dim=128, latent_dim=64, num_layers=2, dropout=0.1).to(DEVICE)\n",
    "crit = nn.MSELoss(reduction=\"mean\")\n",
    "opt = torch.optim.Adam(model.parameters(), lr=1e-3, weight_decay=1e-4)"
   ]
  },
  {
   "cell_type": "code",
   "execution_count": null,
   "id": "94e7b825",
   "metadata": {},
   "outputs": [],
   "source": [
    "# [12] Entrenamiento con Early Stopping, grad clipping y checkpoints.\n",
    "EPOCHS = 100\n",
    "PATIENCE = 10\n",
    "MIN_DELTA = 1e-5\n",
    "best_val = float(\"inf\")\n",
    "no_improve = 0\n",
    "\n",
    "def run_epoch(dloader, train=True):\n",
    "    model.train(train)\n",
    "    total = 0.0; n = 0\n",
    "    for xb in dloader:\n",
    "        xb = xb.to(DEVICE)\n",
    "        if train:\n",
    "            opt.zero_grad(set_to_none=True)\n",
    "        yhat, _ = model(xb)\n",
    "        loss = crit(yhat, xb)\n",
    "        if train:\n",
    "            loss.backward()\n",
    "            torch.nn.utils.clip_grad_norm_(model.parameters(), max_norm=1.0)\n",
    "            opt.step()\n",
    "        bs = xb.size(0)\n",
    "        total += loss.item()*bs\n",
    "        n += bs\n",
    "    return total/max(n,1)\n",
    "\n",
    "for ep in range(1, EPOCHS+1):\n",
    "    tr = run_epoch(dl_train, train=True)\n",
    "    vl = run_epoch(dl_val, train=False)\n",
    "    print(f\"Epoch {ep:03d} | train={tr:.6f} | val={vl:.6f}\")\n",
    "    if best_val - vl > MIN_DELTA:\n",
    "        best_val = vl; no_improve = 0\n",
    "        torch.save(model.state_dict(), os.path.join(CKPT_DIR, \"best_lstm_model.pt\"))\n",
    "    else:\n",
    "        no_improve += 1\n",
    "    torch.save(model.state_dict(), os.path.join(CKPT_DIR, \"last_lstm_model.pt\"))\n",
    "    if no_improve >= PATIENCE:\n",
    "        print(\"Early stopping.\"); break"
   ]
  },
  {
   "cell_type": "code",
   "execution_count": null,
   "id": "0d28b5b2",
   "metadata": {},
   "outputs": [],
   "source": [
    "# [13] Evaluación: errores de reconstrucción por secuencia y resumen estadístico.\n",
    "@torch.no_grad()\n",
    "def reconstruction_errors(dloader):\n",
    "    model.eval()\n",
    "    errs = []\n",
    "    for xb in dloader:\n",
    "        xb = xb.to(DEVICE)\n",
    "        yhat, _ = model(xb)\n",
    "        e = ((yhat - xb)**2).mean(dim=(1,2)).detach().cpu().numpy()\n",
    "        errs.append(e)\n",
    "    if len(errs)==0: return np.array([])\n",
    "    return np.concatenate(errs, axis=0)\n",
    "\n",
    "err_train = reconstruction_errors(dl_train)\n",
    "err_val   = reconstruction_errors(dl_val)\n",
    "err_te    = reconstruction_errors(dl_te)\n",
    "err_wb    = reconstruction_errors(dl_wb)\n",
    "err_wa    = reconstruction_errors(dl_wa)\n",
    "\n",
    "def summarize(name, arr):\n",
    "    if arr.size==0: return {\"name\": name, \"count\": 0}\n",
    "    return {\"name\": name, \"count\": int(arr.size),\n",
    "            \"mean\": float(arr.mean()), \"std\": float(arr.std()),\n",
    "            \"p50\": float(np.percentile(arr, 50)),\n",
    "            \"p90\": float(np.percentile(arr, 90)),\n",
    "            \"p95\": float(np.percentile(arr, 95)),\n",
    "            \"p99\": float(np.percentile(arr, 99))}\n",
    "\n",
    "summary = [summarize(\"train\", err_train),\n",
    "           summarize(\"val\", err_val),\n",
    "           summarize(\"test_event\", err_te),\n",
    "           summarize(\"test_witness_before\", err_wb),\n",
    "           summarize(\"test_witness_after\", err_wa)]\n",
    "summary"
   ]
  },
  {
   "cell_type": "code",
   "execution_count": null,
   "id": "86ca7049",
   "metadata": {},
   "outputs": [],
   "source": [
    "# [14] Umbral p95 (train), TPR en evento y FPR en testigos.\n",
    "if err_train.size>0:\n",
    "    threshold = float(np.percentile(err_train, 95))\n",
    "else:\n",
    "    threshold = float(\"nan\")\n",
    "\n",
    "def rate(arr, thr):\n",
    "    return float((arr > thr).mean()) if arr.size>0 and not math.isnan(thr) else float(\"nan\")\n",
    "\n",
    "metrics_core = {\n",
    "    \"threshold_p95_train\": threshold,\n",
    "    \"TPR_event\": rate(err_te, threshold),\n",
    "    \"FPR_witness_before\": rate(err_wb, threshold),\n",
    "    \"FPR_witness_after\": rate(err_wa, threshold),\n",
    "}\n",
    "metrics_core"
   ]
  },
  {
   "cell_type": "code",
   "execution_count": null,
   "id": "d93a7756",
   "metadata": {},
   "outputs": [],
   "source": [
    "# [15] Figuras: histogramas de error y guardado.\n",
    "plt.figure()\n",
    "if err_train.size>0: plt.hist(err_train, bins=50, alpha=0.7, label=\"train\")\n",
    "if err_val.size>0:   plt.hist(err_val,   bins=50, alpha=0.7, label=\"val\")\n",
    "if not math.isnan(metrics_core[\"threshold_p95_train\"]):\n",
    "    plt.axvline(metrics_core[\"threshold_p95_train\"], linestyle=\"--\", label=\"threshold (p95 train)\")\n",
    "plt.title(\"Distribución error reconstrucción (train/val) - LSTM AE\")\n",
    "plt.legend(); plt.tight_layout(); plt.savefig(os.path.join(FIG_DIR, \"lstm_error_hist_train_val.png\")); plt.close()\n",
    "\n",
    "plt.figure()\n",
    "if err_te.size>0: plt.hist(err_te, bins=50, alpha=0.7, label=\"event\")\n",
    "if err_wb.size>0: plt.hist(err_wb, bins=50, alpha=0.7, label=\"witness_before\")\n",
    "if err_wa.size>0: plt.hist(err_wa, bins=50, alpha=0.7, label=\"witness_after\")\n",
    "if not math.isnan(metrics_core[\"threshold_p95_train\"]):\n",
    "    plt.axvline(metrics_core[\"threshold_p95_train\"], linestyle=\"--\", label=\"threshold (p95 train)\")\n",
    "plt.title(\"Distribución error reconstrucción (test splits) - LSTM AE\")\n",
    "plt.legend(); plt.tight_layout(); plt.savefig(os.path.join(FIG_DIR, \"lstm_error_hist_tests.png\")); plt.close()\n",
    "\n",
    "print(\"Figuras guardadas en:\", FIG_DIR)"
   ]
  },
  {
   "cell_type": "code",
   "execution_count": null,
   "id": "35c4a4ad",
   "metadata": {},
   "outputs": [],
   "source": [
    "# [16] Persistencia: guardar métricas y configuración del modelo.\n",
    "out_metrics = {\n",
    "    \"summary\": summary,\n",
    "    \"core\": metrics_core,\n",
    "    \"model\": {\"type\": \"LSTM_AE\", \"input_dim\": int(input_dim), \"seq_len\": int(SEQ_LEN),\n",
    "              \"hidden_dim\": 128, \"latent_dim\": 64, \"layers\": 2, \"dropout\": 0.1},\n",
    "    \"data\": {\"resample\": \"5s\",\n",
    "             \"event_start\": str(EVENT_START), \"event_end\": str(EVENT_END),\n",
    "             \"witness_before\": [str(WITNESS_BEFORE[0]), str(WITNESS_BEFORE[1])],\n",
    "             \"witness_after\": [str(WITNESS_AFTER[0]), str(WITNESS_AFTER[1])],\n",
    "             \"paths\": {\"DATA_DIR\": DATA_DIR, \"PARQUET\": PARQUET,\n",
    "                       \"CKPT_DIR\": CKPT_DIR, \"FIG_DIR\": FIG_DIR}},\n",
    "}\n",
    "\n",
    "with open(f\"{REP_DIR}/metrics_lstm.json\", \"w\") as f:\n",
    "    json.dump(out_metrics, f, indent=2)\n",
    "\n",
    "with open(f\"{MOD_DIR}/lstm_config.json\", \"w\") as f:\n",
    "    json.dump(out_metrics[\"model\"], f, indent=2)\n",
    "\n",
    "print(\"Métricas guardadas en:\", f\"{REP_DIR}/metrics_lstm.json\")\n",
    "print(\"Config guardada en  :\", f\"{MOD_DIR}/lstm_config.json\")"
   ]
  },
  {
   "cell_type": "code",
   "execution_count": null,
   "id": "6e465b1c",
   "metadata": {},
   "outputs": [],
   "source": [
    "# [17] Resumen final: impresión de métricas clave.\n",
    "print(\"=== Resumen LSTM AE ===\")\n",
    "print(json.dumps(metrics_core, indent=2))"
   ]
  },
  {
   "cell_type": "code",
   "execution_count": null,
   "id": "284ba62a",
   "metadata": {},
   "outputs": [],
   "source": [
    "# [Final] Mostrar resultados guardados del modelo LSTM\n",
    "import json\n",
    "from IPython.display import JSON, display\n",
    "\n",
    "# Ruta al archivo de métricas\n",
    "metrics_path = f\"{REP_DIR}/metrics_lstm.json\"\n",
    "\n",
    "with open(metrics_path, \"r\") as f:\n",
    "    results = json.load(f)\n",
    "\n",
    "print(\"=== Núcleo de métricas (core) ===\")\n",
    "display(JSON(results[\"core\"]))\n",
    "\n",
    "print(\"\\n=== Resumen estadístico por split ===\")\n",
    "display(JSON(results[\"summary\"]))\n",
    "\n",
    "print(\"\\n=== Configuración del modelo ===\")\n",
    "display(JSON(results[\"model\"]))\n",
    "\n",
    "print(\"\\n=== Información de datos ===\")\n",
    "display(JSON(results[\"data\"]))\n",
    "\n",
    "print(\"\\n📊 Figuras generadas:\")\n",
    "print(f\"- Train/Val: {FIG_DIR}/lstm_error_hist_train_val.png\")\n",
    "print(f\"- Test Splits: {FIG_DIR}/lstm_error_hist_tests.png\")\n",
    "\n",
    "print(\"\\n📦 Checkpoints guardados:\")\n",
    "print(f\"- Best model: {CKPT_DIR}/best_lstm_model.pt\")\n",
    "print(f\"- Last model: {CKPT_DIR}/last_lstm_model.pt\")"
   ]
  },
  {
   "cell_type": "markdown",
   "id": "6c0a7c9a",
   "metadata": {},
   "source": [
    "# Markov"
   ]
  },
  {
   "cell_type": "code",
   "execution_count": null,
   "id": "b5071f68",
   "metadata": {},
   "outputs": [],
   "source": [
    "df['prefix'].value_counts().sort_values(ascending=False)[:10].to_frame().reset_index()"
   ]
  },
  {
   "cell_type": "code",
   "execution_count": null,
   "id": "376be886",
   "metadata": {},
   "outputs": [],
   "source": [
    "prefix = '156.227.32.0/21'\n",
    "\n",
    "prefix_df = df[df['prefix']==prefix]\n",
    "display(prefix_df.head(3))"
   ]
  },
  {
   "cell_type": "code",
   "execution_count": null,
   "id": "b01423ee",
   "metadata": {},
   "outputs": [],
   "source": [
    "df_copy = df.copy()\n",
    "df_copy['formatted_time'] = pd.to_datetime(df_copy['time'], unit='s', utc=True, errors='coerce')\n",
    "\n",
    "target_prefix = prefix\n",
    "\n",
    "df_target = df_copy[(df_copy['prefix'] == target_prefix) & (df_copy['type'] == 'A')].sort_values('formatted_time')\n",
    "\n",
    "freq = '1s'\n",
    "\n",
    "df_target = df_target.set_index('formatted_time').resample(freq)['origin'].last().dropna().reset_index()\n",
    "\n",
    "df_counts = df_target.groupby([pd.Grouper(key='formatted_time', freq=freq), 'origin']).size().unstack(fill_value=0)\n",
    "\n",
    "ax = df_counts.plot(\n",
    "    kind='bar',\n",
    "    stacked=True,\n",
    "    figsize=(12,5),\n",
    "    # Colormap='tab10',\n",
    "    width=1.0\n",
    ")\n",
    "\n",
    "plt.title(f'Origin AS over time for prefix {target_prefix}', fontsize=12)\n",
    "plt.xlabel('Time (UTC)')\n",
    "plt.ylabel('Origin AS')\n",
    "ax.set(yticklabels=[])\n",
    "ax.tick_params(left=False)\n",
    "plt.xticks(ticks=range(0, len(df_counts), max(1, len(df_counts)//10)),\n",
    "           labels=[d.strftime('%d/%m/%Y %H:%M') for d in df_counts.index[::max(1, len(df_counts)//10)]],\n",
    "           rotation=45)\n",
    "plt.grid(True, axis='x', linestyle=':', alpha=0.6)\n",
    "\n",
    "plt.show()"
   ]
  },
  {
   "cell_type": "code",
   "execution_count": null,
   "id": "a9648706",
   "metadata": {},
   "outputs": [],
   "source": [
    "df_copy = df.copy()\n",
    "df_copy['formatted_time'] = pd.to_datetime(df_copy['time'], unit='s', utc=True, errors='coerce')\n",
    "\n",
    "target_prefix = prefix\n",
    "\n",
    "df_target = df_copy[(df_copy['prefix'] == target_prefix) & (df_copy['type'] == 'A')].sort_values('formatted_time')\n",
    "\n",
    "freq = '1s'\n",
    "\n",
    "df_target = df_target.set_index('formatted_time').resample(freq)['origin'].last().dropna().reset_index()\n",
    "\n",
    "df_counts = df_target.groupby([pd.Grouper(key='formatted_time', freq=freq), 'origin']).size().unstack(fill_value=0)\n",
    "\n",
    "ax = df_counts.plot(\n",
    "    kind='bar',\n",
    "    stacked=True,\n",
    "    figsize=(12,5),\n",
    "    # Colormap='tab10',\n",
    "    width=1.0\n",
    ")\n",
    "\n",
    "plt.title(f'Origin AS over time for prefix {target_prefix}', fontsize=12)\n",
    "plt.xlabel('Time (UTC)')\n",
    "plt.ylabel('Origin AS')\n",
    "ax.set(yticklabels=[])\n",
    "ax.tick_params(left=False)\n",
    "plt.xticks(ticks=range(0, len(df_counts), max(1, len(df_counts)//10)),\n",
    "           labels=[d.strftime('%d/%m/%Y %H:%M') for d in df_counts.index[::max(1, len(df_counts)//10)]],\n",
    "           rotation=45)\n",
    "plt.grid(True, axis='x', linestyle=':', alpha=0.6)\n",
    "\n",
    "plt.show()"
   ]
  },
  {
   "cell_type": "markdown",
   "id": "15d3f495",
   "metadata": {},
   "source": [
    "### Generar estados"
   ]
  },
  {
   "cell_type": "markdown",
   "id": "d4950d16",
   "metadata": {},
   "source": [
    "Embeddings `AS_PATH` + `PREFIX`"
   ]
  },
  {
   "cell_type": "code",
   "execution_count": null,
   "id": "f7a658ca",
   "metadata": {},
   "outputs": [],
   "source": [
    "def filter_by_utc_window(df, start_str, end_str):\n",
    "    # Parseo como UTC\n",
    "    start = datetime.strptime(start_str, \"%Y-%m-%d %H:%M\").replace(tzinfo=timezone.utc)\n",
    "    end   = datetime.strptime(end_str, \"%Y-%m-%d %H:%M\").replace(tzinfo=timezone.utc)\n",
    "\n",
    "    # A epoch seconds (enteros)\n",
    "    start_s = int(start.timestamp())\n",
    "    end_s   = int(end.timestamp())\n",
    "\n",
    "    # Inicio inclusivo, fin exclusivo (ajusta según necesites)\n",
    "    mask = (df[\"time\"] >= start_s) & (df[\"time\"] < end_s)\n",
    "    return df.loc[mask].copy()\n",
    "\n",
    "df_event = filter_by_utc_window(df=prefix_df,\n",
    "                                start_str='2025-05-28 03:37', # Periodo antes\n",
    "                                end_str='2025-05-28 04:07') # del evento de secuestro\n",
    "display(df_event)"
   ]
  },
  {
   "cell_type": "code",
   "execution_count": null,
   "id": "2412823b",
   "metadata": {},
   "outputs": [],
   "source": [
    "EMBEDDINGS_MODEL = 'sentence-transformers/all-MiniLM-L6-v2'\n",
    "model = SentenceTransformer(EMBEDDINGS_MODEL)"
   ]
  },
  {
   "cell_type": "code",
   "execution_count": null,
   "id": "06021efe",
   "metadata": {},
   "outputs": [],
   "source": [
    "# Filtramos filas válidas\n",
    "mask_valid = (\n",
    "    df_event['prefix'].notna()\n",
    ")\n",
    "\n",
    "# Combinamos prefix + as_path\n",
    "df_event['state_embedding'] = df_event['type'].astype(str) + \" \" + df_event['prefix'].astype(str) + \" \" + df_event['origin'].astype(str) + \" \" + df_event['as_path'].astype(str)\n",
    "\n",
    "# Generamos embeddings solo para filas válidas\n",
    "valid_texts = df_event.loc[mask_valid, 'state_embedding'].tolist()\n",
    "embeddings = model.encode(valid_texts, show_progress_bar=True, convert_to_numpy=True)"
   ]
  },
  {
   "cell_type": "code",
   "execution_count": null,
   "id": "dfa4219c",
   "metadata": {},
   "outputs": [],
   "source": [
    "for i, idx in enumerate(df_event.index[mask_valid]):\n",
    "  df_event.at[idx, 'state_embedding'] = embeddings[i]\n",
    "\n",
    "display(df_event.head(5))"
   ]
  },
  {
   "cell_type": "markdown",
   "id": "d1c85331",
   "metadata": {},
   "source": [
    "#### Discretización de los embeddigs"
   ]
  },
  {
   "cell_type": "code",
   "execution_count": null,
   "id": "97237b6f",
   "metadata": {},
   "outputs": [],
   "source": [
    "# Convertimos la lista de embeddings en una matriz (n_samples, embedding_dim)\n",
    "X = np.vstack(df_event['state_embedding'].values)\n",
    "print(\"Shape:\", X.shape)"
   ]
  },
  {
   "cell_type": "code",
   "execution_count": null,
   "id": "3552b7d6",
   "metadata": {},
   "outputs": [],
   "source": [
    "k_values = range(2, 41, 2)\n",
    "inertias = []\n",
    "\n",
    "for k in tqdm(k_values):\n",
    "    mbk = MiniBatchKMeans(n_clusters=k, batch_size=64, random_state=42)\n",
    "    labels = mbk.fit_predict(X)\n",
    "    inertias.append(mbk.inertia_)\n",
    "\n",
    "# Graficar Elbow\n",
    "plt.figure(figsize=(6,4))\n",
    "plt.plot(k_values, inertias, marker='o')\n",
    "plt.title(\"Elbow Method (MiniBatchKMeans)\")\n",
    "plt.xlabel(\"k\")\n",
    "plt.ylabel(\"Inertia\")\n",
    "plt.grid(True)\n",
    "plt.show()"
   ]
  },
  {
   "cell_type": "code",
   "execution_count": null,
   "id": "139a0d1f",
   "metadata": {},
   "outputs": [],
   "source": [
    "n_clusters = 10\n",
    "\n",
    "mbk = MiniBatchKMeans(n_clusters=n_clusters, batch_size=64, random_state=42)\n",
    "df_event.loc[:,'state_id'] = mbk.fit_predict(X)\n",
    "\n",
    "display(df_event)"
   ]
  },
  {
   "cell_type": "code",
   "execution_count": null,
   "id": "f0d4ac20",
   "metadata": {},
   "outputs": [],
   "source": [
    "import joblib\n",
    "\n",
    "joblib.dump(mbk, r'C:\\Users\\chris\\Documents\\Code\\MNA\\Proyecto_integrador\\BGP-Hijacking-detection\\models\\markov\\states\\best_mini_batch_k_means_prefix_137_59_18_0_24_k_18.pkl')"
   ]
  },
  {
   "cell_type": "code",
   "execution_count": null,
   "id": "96d3f9c9",
   "metadata": {},
   "outputs": [],
   "source": [
    "df_train = df_event[['time','prefix','origin','as_path','state_embedding','state_id']].reset_index(drop=True)\n",
    "display(df_train)"
   ]
  },
  {
   "cell_type": "markdown",
   "id": "8024d7dc",
   "metadata": {},
   "source": [
    "### Generación del modelo"
   ]
  },
  {
   "cell_type": "code",
   "execution_count": null,
   "id": "6919a60f",
   "metadata": {},
   "outputs": [],
   "source": [
    "df_train['next_state_id'] = df_train['state_id'].shift(-1)\n",
    "\n",
    "df_transitions = df_train.dropna(subset=['next_state_id']).copy()\n",
    "\n",
    "df_transitions['next_state_id'] = df_transitions['next_state_id'].astype(int)\n",
    "\n",
    "# Contar frecuencia de cada transición\n",
    "transition_counts = (\n",
    "    df_transitions.groupby([\"state_id\", \"next_state_id\"])\n",
    "    .size()\n",
    "    .unstack(fill_value=0)\n",
    ")\n",
    "\n",
    "# Normalizar por fila → P(j | i) Matrix de probabilidad de transición entre estados\n",
    "transition_matrix = transition_counts.div(transition_counts.sum(axis=1), axis=0)\n",
    "\n",
    "transition_matrix"
   ]
  },
  {
   "cell_type": "code",
   "execution_count": null,
   "id": "625054ec",
   "metadata": {},
   "outputs": [],
   "source": [
    "import seaborn as sns\n",
    "\n",
    "plt.figure(figsize=(10, 8))\n",
    "sns.heatmap(transition_matrix, cmap=\"viridis\", cbar=True)\n",
    "plt.title(\"Matriz de transición entre estados (Markov)\")\n",
    "plt.xlabel(\"Siguiente estado\")\n",
    "plt.ylabel(\"Estado actual\")\n",
    "plt.show()"
   ]
  },
  {
   "cell_type": "code",
   "execution_count": null,
   "id": "de70cd0b",
   "metadata": {},
   "outputs": [],
   "source": [
    "joblib.dump(transition_matrix, r'C:\\Users\\chris\\Documents\\Code\\MNA\\Proyecto_integrador\\BGP-Hijacking-detection\\models\\markov\\probs\\best_transition_matrix_prefix_137_59_18_0_24_k_18.pkl')"
   ]
  },
  {
   "cell_type": "markdown",
   "id": "b21cc637",
   "metadata": {},
   "source": [
    "## Inferencia"
   ]
  },
  {
   "cell_type": "code",
   "execution_count": null,
   "id": "441c5fe5",
   "metadata": {},
   "outputs": [],
   "source": [
    "import numpy as np\n",
    "import pandas as pd\n",
    "\n",
    "import joblib\n",
    "from sentence_transformers import SentenceTransformer\n",
    "\n",
    "import matplotlib.pyplot as plt\n",
    "from matplotlib.dates import AutoDateLocator, ConciseDateFormatter\n",
    "\n",
    "EMBEDDINGS_MODEL = 'sentence-transformers/all-MiniLM-L6-v2'\n",
    "\n",
    "DATA_PATH = r'C:\\Users\\chris\\Documents\\Code\\MNA\\Proyecto_integrador\\BGP-Hijacking-detection\\data\\processed\\Filtrado_Mayo_28_2025_output.parquet'\n",
    "\n",
    "df = pd.read_parquet(DATA_PATH, engine=\"pyarrow\")\n",
    "display(df.head(5))"
   ]
  },
  {
   "cell_type": "code",
   "execution_count": null,
   "id": "ad099577",
   "metadata": {},
   "outputs": [],
   "source": [
    "def generate_state_embeddings(df: pd.DataFrame, model_name: str = 'sentence-transformers/all-MiniLM-L6-v2') -> pd.DataFrame:\n",
    "    \"\"\"\n",
    "    Genera embeddings (vectores numéricos) a partir de las columnas 'prefix' y 'as_path'\n",
    "    y los almacena en una nueva columna llamada 'state_embedding'.\n",
    "    \n",
    "    Parámetros\n",
    "    ----------\n",
    "    df : pd.DataFrame\n",
    "        DataFrame de entrada con al menos las columnas 'prefix' y 'as_path'.\n",
    "    model_name : str, opcional\n",
    "        Nombre del modelo SentenceTransformer a usar (por defecto: MiniLM-L6-v2).\n",
    "    \n",
    "    Retorna\n",
    "    -------\n",
    "    pd.DataFrame\n",
    "        Copia del DataFrame original con la columna 'state_embedding' añadida.\n",
    "    \"\"\"\n",
    "\n",
    "    # Hacemos una copia para no modificar el DataFrame original\n",
    "    df_out = df.copy()\n",
    "\n",
    "    # Cargamos el modelo de embeddings\n",
    "    model = SentenceTransformer(model_name)\n",
    "\n",
    "    # Filtramos filas válidas (sin valores nulos o vacíos en prefix/as_path)\n",
    "    mask_valid = (\n",
    "        df_out['prefix'].notna()\n",
    "    )\n",
    "\n",
    "    # Combinamos prefix + as_path en un solo texto (input para el modelo)\n",
    "    df_out['state_text'] = df_out['type'].astype(str) + \" \" + df_out['prefix'].astype(str) + \" \" + df_out['origin'].astype(str) + \" \" + df_out['as_path'].astype(str)\n",
    "\n",
    "    # Obtenemos los textos válidos a procesar\n",
    "    valid_texts = df_out.loc[mask_valid, 'state_text'].tolist()\n",
    "\n",
    "    # Generamos los embeddings (vectores de alta dimensión)\n",
    "    embeddings = model.encode(valid_texts, show_progress_bar=True, convert_to_numpy=True)\n",
    "\n",
    "    # Inicializamos la nueva columna\n",
    "    df_out['state_embedding'] = None\n",
    "\n",
    "    # Asignamos los embeddings solo a las filas válidas\n",
    "    for i, idx in enumerate(df_out.index[mask_valid]):\n",
    "        df_out.at[idx, 'state_embedding'] = embeddings[i]\n",
    "\n",
    "    # Eliminamos la columna temporal 'state_text'\n",
    "    df_out.drop(columns=['state_text'], inplace=True)\n",
    "    df_out['state_embedding'].dropna(inplace=True)\n",
    "\n",
    "    return df_out\n"
   ]
  },
  {
   "cell_type": "markdown",
   "id": "d3c0bb98",
   "metadata": {},
   "source": [
    "### Prefijo 156.227.32.0/21"
   ]
  },
  {
   "cell_type": "code",
   "execution_count": null,
   "id": "ef58fb3b",
   "metadata": {},
   "outputs": [],
   "source": [
    "MBK_156_227_32_0_21 = r'C:\\Users\\chris\\Documents\\Code\\MNA\\Proyecto_integrador\\BGP-Hijacking-detection\\models\\markov\\states\\best_mini_batch_k_means_prefix_156_227_32_0_21_k_10.pkl'\n",
    "TRANSITION_MATRIX_156_227_32_0_21 = r'C:\\Users\\chris\\Documents\\Code\\MNA\\Proyecto_integrador\\BGP-Hijacking-detection\\models\\markov\\probs\\best_transition_matrix_hijack_prefix_156_227_32_0_21_k_10.pkl'\n",
    "\n",
    "PREFIX = '156.227.32.0/21'\n",
    "\n",
    "mbk = joblib.load(MBK_156_227_32_0_21)\n",
    "transition_matrix = joblib.load(TRANSITION_MATRIX_156_227_32_0_21)\n",
    "\n",
    "df_inference = df[df['prefix']==PREFIX][['time','collector','type','prefix','origin','as_path']]\n",
    "display(df.head(5))"
   ]
  },
  {
   "cell_type": "code",
   "execution_count": null,
   "id": "9e757627",
   "metadata": {},
   "outputs": [],
   "source": [
    "df_inference_embed = generate_state_embeddings(df_inference, EMBEDDINGS_MODEL)\n",
    "display(df_inference_embed.head(5))"
   ]
  },
  {
   "cell_type": "markdown",
   "id": "a7675f2f",
   "metadata": {},
   "source": [
    "#### Generación de los estados a partir del entrenamiento"
   ]
  },
  {
   "cell_type": "code",
   "execution_count": null,
   "id": "121cfd79",
   "metadata": {},
   "outputs": [],
   "source": [
    "X = np.vstack(df_inference_embed['state_embedding'].values)\n",
    "print(\"Shape:\", X.shape)\n",
    "\n",
    "df_inference_embed.loc[:,'state_id'] = mbk.predict(X)\n",
    "display(df_inference_embed.head(5))"
   ]
  },
  {
   "cell_type": "markdown",
   "id": "1aea1215",
   "metadata": {},
   "source": [
    "#### Obtener probabilidades"
   ]
  },
  {
   "cell_type": "code",
   "execution_count": null,
   "id": "d493179d",
   "metadata": {},
   "outputs": [],
   "source": [
    "df_inferences = (\n",
    "    df_inference_embed[[\"time\", \"state_id\"]]\n",
    "    .reset_index(drop=True)\n",
    ")\n",
    "\n",
    "# Siguiente estado (shift -1)\n",
    "df_inferences[\"next_state_id\"] = df_inferences[\"state_id\"].shift(-1).fillna(-1).astype(int)\n",
    "display(df_inferences.head(5))"
   ]
  },
  {
   "cell_type": "code",
   "execution_count": null,
   "id": "b76fe186",
   "metadata": {},
   "outputs": [],
   "source": [
    "# Serie con las probabilidades P(j|i) de la matriz de transición\n",
    "#    (MultiIndex: (state_i, state_j) -> prob)\n",
    "probs_series = transition_matrix.stack()\n",
    "probs_series"
   ]
  },
  {
   "cell_type": "code",
   "execution_count": null,
   "id": "ed8f046d",
   "metadata": {},
   "outputs": [],
   "source": [
    "# 4) Construimos las llaves (i, j) para cada fila y mapeamos en vector\n",
    "keys = pd.MultiIndex.from_arrays(\n",
    "    [df_inferences[\"state_id\"], df_inferences[\"next_state_id\"]]\n",
    ")\n",
    "\n",
    "df_inferences[\"trans_prob\"] = probs_series.reindex(keys).to_numpy()\n",
    "\n",
    "# 5) Limpieza:\n",
    "#    - La última fila no tiene next_state_id -> NaN\n",
    "#    - Transiciones nunca vistas -> NaN -> 0.0\n",
    "df_inferences[\"trans_prob\"] = df_inferences[\"trans_prob\"].fillna(0.0)\n",
    "\n",
    "display(df_inferences)"
   ]
  },
  {
   "cell_type": "markdown",
   "id": "b874a19c",
   "metadata": {},
   "source": [
    "Negative Log-Likelihood (NLL)\n",
    "\n",
    "$ NLL=−t∑​logP(st+1​∣st​) $"
   ]
  },
  {
   "cell_type": "code",
   "execution_count": null,
   "id": "f2ebaad3",
   "metadata": {},
   "outputs": [],
   "source": [
    "# Score de anomalía: NLL por transición\n",
    "eps = 1e-12 # Evita el log(0)\n",
    "df_inferences[\"nll\"] = -np.log(df_inferences[\"trans_prob\"].clip(lower=eps)) # -log(P(st+1|st))\n",
    "\n",
    "display(df_inferences)"
   ]
  },
  {
   "cell_type": "code",
   "execution_count": null,
   "id": "87a9f901",
   "metadata": {},
   "outputs": [],
   "source": [
    "window = 2\n",
    "\n",
    "df_inferences['nll_smooth'] = df_inferences['nll'].rolling(window=window, min_periods=1).mean()\n",
    "\n",
    "df_inferences['time_dt'] = pd.to_datetime(df_inferences['time'], unit='s', utc=True)\n",
    "\n",
    "df_inferences = df_inferences.sort_values('time_dt')\n",
    "\n",
    "locator = AutoDateLocator()\n",
    "formatter = ConciseDateFormatter(locator)\n",
    "\n",
    "# Grafica nll en su propio plot\n",
    "fig, ax2 = plt.subplots(figsize=(10, 4))\n",
    "ax2.plot(df_inferences['time_dt'], df_inferences['nll_smooth'], color='tab:red', linestyle='--', marker='o')\n",
    "ax2.set_title(\"Score de rareza (-log(prob))\")\n",
    "ax2.set_xlabel(\"Tiempo (UTC)\")\n",
    "ax2.set_ylabel(\"NLL (Negative Log-Likelihood)\")\n",
    "ax2.grid(True, alpha=0.3)\n",
    "ax2.xaxis.set_major_locator(locator)\n",
    "ax2.xaxis.set_major_formatter(formatter)\n",
    "plt.tight_layout()\n",
    "plt.show()"
   ]
  },
  {
   "attachments": {
    "image.png": {
     "image/png": "[encoded data removed]"
    }
   },
   "cell_type": "markdown",
   "id": "aca4be9c",
   "metadata": {},
   "source": [
    "![image.png](attachment:image.png)"
   ]
  },
  {
   "cell_type": "markdown",
   "id": "9d986fb0",
   "metadata": {},
   "source": [
    "### Prefijo 137.59.18.0/24"
   ]
  },
  {
   "cell_type": "code",
   "execution_count": null,
   "id": "2691748d",
   "metadata": {},
   "outputs": [],
   "source": [
    "MBK_137_59_18_0_24 = r'C:\\Users\\chris\\Documents\\Code\\MNA\\Proyecto_integrador\\BGP-Hijacking-detection\\models\\markov\\states\\best_mini_batch_k_means_prefix_137_59_18_0_24_k_18.pkl'\n",
    "TRANSITION_MATRIX_137_59_18_0_24 = r'C:\\Users\\chris\\Documents\\Code\\MNA\\Proyecto_integrador\\BGP-Hijacking-detection\\models\\markov\\probs\\best_transition_matrix_prefix_137_59_18_0_24_k_18.pkl'\n",
    "\n",
    "PREFIX = '137.59.18.0/24'\n",
    "\n",
    "mbk = joblib.load(MBK_137_59_18_0_24)\n",
    "transition_matrix = joblib.load(TRANSITION_MATRIX_137_59_18_0_24)\n",
    "\n",
    "df_inference = df[df['prefix']==PREFIX][['time','collector','type','prefix','origin','as_path']]\n",
    "display(df.head(5))"
   ]
  },
  {
   "cell_type": "code",
   "execution_count": null,
   "id": "b42b3760",
   "metadata": {},
   "outputs": [],
   "source": [
    "df_inference_embed = generate_state_embeddings(df_inference, EMBEDDINGS_MODEL)\n",
    "display(df_inference_embed.head(5))"
   ]
  },
  {
   "cell_type": "code",
   "execution_count": null,
   "id": "ab3d77e5",
   "metadata": {},
   "outputs": [],
   "source": [
    "X = np.vstack(df_inference_embed['state_embedding'].values)\n",
    "print(\"Shape:\", X.shape)\n",
    "\n",
    "df_inference_embed.loc[:,'state_id'] = mbk.predict(X)\n",
    "display(df_inference_embed.head(5))"
   ]
  },
  {
   "cell_type": "code",
   "execution_count": null,
   "id": "4dd62b89",
   "metadata": {},
   "outputs": [],
   "source": [
    "df_inferences = (\n",
    "    df_inference_embed[[\"time\", \"state_id\"]]\n",
    "    .reset_index(drop=True)\n",
    ")\n",
    "\n",
    "# Siguiente estado (shift -1)\n",
    "df_inferences[\"next_state_id\"] = df_inferences[\"state_id\"].shift(-1).fillna(-1).astype(int)\n",
    "display(df_inferences.head(5))"
   ]
  },
  {
   "cell_type": "code",
   "execution_count": null,
   "id": "b6cde438",
   "metadata": {},
   "outputs": [],
   "source": [
    "# Serie con las probabilidades P(j|i) de la matriz de transición\n",
    "#    (MultiIndex: (state_i, state_j) -> prob)\n",
    "probs_series = transition_matrix.stack()\n",
    "probs_series"
   ]
  },
  {
   "cell_type": "code",
   "execution_count": null,
   "id": "d7472cd8",
   "metadata": {},
   "outputs": [],
   "source": [
    "# Construimos las llaves (i, j) para cada fila y mapeamos en vector\n",
    "keys = pd.MultiIndex.from_arrays(\n",
    "    [df_inferences[\"state_id\"], df_inferences[\"next_state_id\"]]\n",
    ")\n",
    "\n",
    "df_inferences[\"trans_prob\"] = probs_series.reindex(keys).to_numpy()\n",
    "\n",
    "# Limpieza:\n",
    "#    - La última fila no tiene next_state_id -> NaN\n",
    "#    - Transiciones nunca vistas -> NaN -> 0.0\n",
    "df_inferences[\"trans_prob\"] = df_inferences[\"trans_prob\"].fillna(0.0)\n",
    "\n",
    "display(df_inferences)"
   ]
  },
  {
   "cell_type": "code",
   "execution_count": null,
   "id": "a8f97b5d",
   "metadata": {},
   "outputs": [],
   "source": [
    "# Score de anomalía: NLL por transición\n",
    "eps = 1e-12 # Evita el log(0)\n",
    "df_inferences[\"nll\"] = -np.log(df_inferences[\"trans_prob\"].clip(lower=eps))\n",
    "\n",
    "display(df_inferences)"
   ]
  },
  {
   "cell_type": "code",
   "execution_count": null,
   "id": "b02c0aa3",
   "metadata": {},
   "outputs": [],
   "source": [
    "window = 2\n",
    "\n",
    "df_inferences['nll_smooth'] = df_inferences['nll'].rolling(window=window, min_periods=1).mean()\n",
    "\n",
    "df_inferences['time_dt'] = pd.to_datetime(df_inferences['time'], unit='s', utc=True)\n",
    "\n",
    "df_inferences = df_inferences.sort_values('time_dt')\n",
    "\n",
    "locator = AutoDateLocator()\n",
    "formatter = ConciseDateFormatter(locator)\n",
    "\n",
    "# Grafica nll en su propio plot\n",
    "fig, ax2 = plt.subplots(figsize=(10, 4))\n",
    "ax2.plot(df_inferences['time_dt'], df_inferences['nll_smooth'], color='tab:red', linestyle='--', marker='o')\n",
    "ax2.set_title(\"Score de rareza (-log(prob))\")\n",
    "ax2.set_xlabel(\"Tiempo (UTC)\")\n",
    "ax2.set_ylabel(\"NLL (Negative Log-Likelihood)\")\n",
    "ax2.grid(True, alpha=0.3)\n",
    "ax2.xaxis.set_major_locator(locator)\n",
    "ax2.xaxis.set_major_formatter(formatter)\n",
    "plt.tight_layout()\n",
    "plt.show()"
   ]
  },
  {
   "attachments": {
    "image.png": {
     "image/png": "[encoded data removed]"
    }
   },
   "cell_type": "markdown",
   "id": "d9e9cc58",
   "metadata": {},
   "source": [
    "![image.png](attachment:image.png)"
   ]
  }
 ],
 "metadata": {
  "kernelspec": {
   "display_name": "bgp_hijacking",
   "language": "python",
   "name": "python3"
  },
  "language_info": {
   "codemirror_mode": {
    "name": "ipython",
    "version": 3
   },
   "file_extension": ".py",
   "mimetype": "text/x-python",
   "name": "python",
   "nbconvert_exporter": "python",
   "pygments_lexer": "ipython3",
   "version": "3.10.0rc2"
  }
 },
 "nbformat": 4,
 "nbformat_minor": 5
}
