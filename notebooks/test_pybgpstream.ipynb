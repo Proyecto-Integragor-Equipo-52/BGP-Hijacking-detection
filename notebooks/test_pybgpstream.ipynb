{
 "cells": [
  {
   "cell_type": "code",
   "execution_count": 1,
   "id": "ecf65460",
   "metadata": {},
   "outputs": [],
   "source": [
    "import pybgpstream"
   ]
  },
  {
   "cell_type": "code",
   "execution_count": 2,
   "id": "28281c45",
   "metadata": {},
   "outputs": [],
   "source": [
    "stream = pybgpstream.BGPStream(\n",
    "    from_time=\"2017-07-07 00:00:00\", until_time=\"2017-07-07 00:10:00 UTC\",\n",
    "    collectors=[\"route-views.sg\", \"route-views.eqix\"],\n",
    "    record_type=\"updates\",\n",
    "    filter=\"peer 11666 and prefix more 210.180.0.0/16\"\n",
    ")"
   ]
  },
  {
   "cell_type": "code",
   "execution_count": 3,
   "id": "2917c15c",
   "metadata": {},
   "outputs": [
    {
     "name": "stdout",
     "output_type": "stream",
     "text": [
      "update|A|1499385779.000000|routeviews|route-views.eqix|None|None|11666|206.126.236.24|210.180.224.0/19|206.126.236.24|11666 3356 3786|3356:22 11666:1000 3356:2003 3356:3 3786:0 11666:1002 3356:86 3356:575 3356:666|None|None\n",
      "update|A|1499385779.000000|routeviews|route-views.eqix|None|None|11666|206.126.236.24|210.180.0.0/19|206.126.236.24|11666 3356 3786|3356:22 11666:1000 3356:2003 3356:3 3786:0 11666:1002 3356:86 3356:575 3356:666|None|None\n",
      "update|A|1499385788.000000|routeviews|route-views.eqix|None|None|11666|206.126.236.24|210.180.64.0/19|206.126.236.24|11666 6939 4766 4766|11666:2001 11666:2000|None|None\n",
      "update|A|1499385833.000000|routeviews|route-views.eqix|None|None|11666|206.126.236.24|210.180.96.0/19|206.126.236.24|11666 9318|11666:2000 11666:2008|None|None\n",
      "update|A|1499385851.000000|routeviews|route-views.eqix|None|None|11666|206.126.236.24|210.180.32.0/20|206.126.236.24|11666 3356 3786 4663 4663 4663 4663 4663|3786:11 3356:22 11666:1000 3356:3 11666:1002 3356:86 3356:2011 3356:575 3356:666|None|None\n",
      "update|A|1499385851.000000|routeviews|route-views.eqix|None|None|11666|206.126.236.24|210.180.48.0/20|206.126.236.24|11666 3356 3786 4663 4663 4663 4663 4663|3786:11 3356:22 11666:1000 3356:3 11666:1002 3356:86 3356:2011 3356:575 3356:666|None|None\n",
      "update|A|1499385852.000000|routeviews|route-views.eqix|None|None|11666|206.126.236.24|210.180.32.0/19|206.126.236.24|11666 9318 4663 4663 4663 4663 4663|11666:2000 11666:2008|None|None\n",
      "update|A|1499385908.000000|routeviews|route-views.eqix|None|None|11666|206.126.236.24|210.180.126.0/24|206.126.236.24|11666 6939 4766 45399|11666:2001 11666:2000|None|None\n",
      "update|A|1499386004.000000|routeviews|route-views.eqix|None|None|11666|206.126.236.24|210.180.61.0/24|206.126.236.24|11666 3356 3786 4663 4663|3786:11 3356:22 11666:1000 3356:3 11666:1002 3356:86 3356:2011 3356:575 3356:666|None|None\n",
      "update|A|1499386007.000000|routeviews|route-views.eqix|None|None|11666|206.126.236.24|210.180.128.0/18|206.126.236.24|11666 6939 4766 9706|11666:2001 11666:2000|None|None\n",
      "update|A|1499386007.000000|routeviews|route-views.eqix|None|None|11666|206.126.236.24|210.180.192.0/19|206.126.236.24|11666 6939 4766 9706|11666:2001 11666:2000|None|None\n"
     ]
    }
   ],
   "source": [
    "for elem in stream:\n",
    "    # record fields can be accessed directly from elem\n",
    "    # e.g. elem.time\n",
    "    # or via elem.record\n",
    "    # e.g. elem.record.time\n",
    "    print(elem)"
   ]
  }
 ],
 "metadata": {
  "kernelspec": {
   "display_name": ".venvubuntu",
   "language": "python",
   "name": "python3"
  },
  "language_info": {
   "codemirror_mode": {
    "name": "ipython",
    "version": 3
   },
   "file_extension": ".py",
   "mimetype": "text/x-python",
   "name": "python",
   "nbconvert_exporter": "python",
   "pygments_lexer": "ipython3",
   "version": "3.10.12"
  }
 },
 "nbformat": 4,
 "nbformat_minor": 5
}
